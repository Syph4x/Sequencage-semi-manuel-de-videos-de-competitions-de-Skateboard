{
  "cells": [
    {
      "cell_type": "code",
      "execution_count": null,
      "metadata": {
        "colab": {
          "base_uri": "https://localhost:8080/"
        },
        "id": "kIIoFkTId6wh",
        "outputId": "6c20e408-5a1c-4c7e-b612-eaa6b73aadb5"
      },
      "outputs": [
        {
          "name": "stdout",
          "output_type": "stream",
          "text": [
            "Mounted at /content/drive\n"
          ]
        }
      ],
      "source": [
        "from google.colab import drive\n",
        "drive.mount('/content/drive')"
      ]
    },
    {
      "cell_type": "markdown",
      "metadata": {
        "id": "EYlIl0KVfUqH"
      },
      "source": [
        "# Ouverture et découpage de la vidéo en image (Inutile si on a déjà la vidéo découpé)"
      ]
    },
    {
      "cell_type": "code",
      "execution_count": null,
      "metadata": {
        "colab": {
          "base_uri": "https://localhost:8080/"
        },
        "id": "ValYaCcZFvxj",
        "outputId": "63d44f21-21dd-4608-b491-517da0186223"
      },
      "outputs": [
        {
          "name": "stdout",
          "output_type": "stream",
          "text": [
            "Looking in indexes: https://pypi.org/simple, https://us-python.pkg.dev/colab-wheels/public/simple/\n",
            "Collecting pytube\n",
            "  Downloading pytube-12.1.2-py3-none-any.whl (57 kB)\n",
            "\u001b[2K     \u001b[90m━━━━━━━━━━━━━━━━━━━━━━━━━━━━━━━━━━━━━━━━\u001b[0m \u001b[32m57.0/57.0 KB\u001b[0m \u001b[31m7.6 MB/s\u001b[0m eta \u001b[36m0:00:00\u001b[0m\n",
            "\u001b[?25hInstalling collected packages: pytube\n",
            "Successfully installed pytube-12.1.2\n"
          ]
        }
      ],
      "source": [
        "!pip install pytube"
      ]
    },
    {
      "cell_type": "code",
      "execution_count": null,
      "metadata": {
        "id": "xmO5NYyZFd2Q"
      },
      "outputs": [],
      "source": [
        "from pytube import YouTube"
      ]
    },
    {
      "cell_type": "code",
      "execution_count": null,
      "metadata": {
        "id": "Lel_W5gPFqPP"
      },
      "outputs": [],
      "source": [
        "yt = YouTube(\"https://www.youtube.com/watch?v=pJKOaMZyul8&t=3183s\")\n",
        "mp4_files = yt.streams.filter(file_extension=\"mp4\")\n",
        "mp4_720p_files = mp4_files.get_by_resolution(\"720p\") # la qualité est importante pour bien lire le texte\n",
        "mp4_720p_files.download(\"/content/drive/MyDrive/Projet Final\") # réessayer jusqu'a que ca marche"
      ]
    },
    {
      "cell_type": "code",
      "execution_count": null,
      "metadata": {
        "colab": {
          "base_uri": "https://localhost:8080/"
        },
        "id": "gY1xxQ1_IDGK",
        "outputId": "57e5f7e7-0253-43f3-93d5-9518c98dff0f"
      },
      "outputs": [
        {
          "name": "stdout",
          "output_type": "stream",
          "text": [
            "Looking in indexes: https://pypi.org/simple, https://us-python.pkg.dev/colab-wheels/public/simple/\n",
            "Requirement already satisfied: opencv-python in /usr/local/lib/python3.8/dist-packages (4.6.0.66)\n",
            "Requirement already satisfied: numpy>=1.17.3 in /usr/local/lib/python3.8/dist-packages (from opencv-python) (1.22.4)\n"
          ]
        }
      ],
      "source": [
        "!pip install opencv-python"
      ]
    },
    {
      "cell_type": "code",
      "execution_count": null,
      "metadata": {
        "id": "WeBCExHBwFNs"
      },
      "outputs": [],
      "source": [
        "import cv2 \n",
        "vidcap = cv2.VideoCapture(\"/content/drive/MyDrive/Projet Final/2021 SLS Super Crown World Championship  Mens FINAL  Full Broadcast.mp4\") \n",
        "def getFrame(sec): \n",
        "    vidcap.set(cv2.CAP_PROP_POS_MSEC,sec*1000) \n",
        "    hasFrames,image = vidcap.read() \n",
        "    if hasFrames: \n",
        "        cv2.imwrite(\"/content/drive/MyDrive/Projet Final/image/\"+\"frame \"+str(sec)+\" sec.jpg\", image)     # save frame as JPG file \n",
        "    return hasFrames \n",
        "sec = 0 \n",
        "frameRate = 0.5 # //it will capture image in each 0.5 second \n",
        "success = getFrame(sec) \n",
        "while success: \n",
        "    sec = sec + frameRate \n",
        "    sec = round(sec, 2) \n",
        "    success = getFrame(sec)"
      ]
    },
    {
      "cell_type": "markdown",
      "metadata": {
        "id": "2isjNaZNfw-G"
      },
      "source": [
        "# Etude des frames "
      ]
    },
    {
      "cell_type": "markdown",
      "metadata": {
        "id": "VfJOybijn7GL"
      },
      "source": [
        "## Test sur une image"
      ]
    },
    {
      "cell_type": "code",
      "execution_count": null,
      "metadata": {
        "id": "hVaXUMryweFc"
      },
      "outputs": [],
      "source": [
        "!sudo apt install tesseract-ocr"
      ]
    },
    {
      "cell_type": "code",
      "execution_count": null,
      "metadata": {
        "id": "lkUXSop3t5ri"
      },
      "outputs": [],
      "source": [
        "!pip install pytesseract==0.3.9"
      ]
    },
    {
      "cell_type": "code",
      "execution_count": null,
      "metadata": {
        "id": "kuDY_kU4uR6L"
      },
      "outputs": [],
      "source": [
        "import cv2"
      ]
    },
    {
      "cell_type": "code",
      "execution_count": null,
      "metadata": {
        "id": "zPVtGXYnpltb"
      },
      "outputs": [],
      "source": [
        "!pip install easyocr\n",
        "import easyocr"
      ]
    },
    {
      "cell_type": "code",
      "execution_count": null,
      "metadata": {
        "colab": {
          "base_uri": "https://localhost:8080/",
          "height": 377
        },
        "id": "NDGQnatNnNyC",
        "outputId": "6e89add0-1569-4a51-e680-1617070196d2"
      },
      "outputs": [
        {
          "output_type": "display_data",
          "data": {
            "text/plain": [
              "<PIL.Image.Image image mode=RGB size=640x360 at 0x7F50B0066490>"
            ],
            "image/png": "[encoded data removed]"
          },
          "metadata": {}
        }
      ],
      "source": [
        "import pytesseract\n",
        "import matplotlib.pyplot as plt\n",
        "from pytesseract import Output\n",
        "from PIL import Image\n",
        "from google.colab.patches import cv2_imshow\n",
        "\n",
        "# Frame 11846\n",
        "image = cv2.imread('/content/drive/MyDrive/Projet Final/imageF/frame 400.0 sec.jpg')\n",
        "# Agrandir l'image en utilisant une proportion de 2\n",
        "#image = cv2.resize(image, (0,0), fx=5, fy=5)\n",
        "cv2_imshow(image)"
      ]
    },
    {
      "cell_type": "code",
      "execution_count": null,
      "metadata": {
        "colab": {
          "base_uri": "https://localhost:8080/",
          "height": 127
        },
        "id": "EX1mJgngROjC",
        "outputId": "8844542e-1e59-494d-b4cf-f098ad52e2f8"
      },
      "outputs": [
        {
          "output_type": "display_data",
          "data": {
            "text/plain": [
              "<PIL.Image.Image image mode=RGB size=202x110 at 0x7F5017AC3760>"
            ],
            "image/png": "[encoded data removed]"
          },
          "metadata": {}
        }
      ],
      "source": [
        "cv2_imshow(image[140:250,58:260]) #image[200:250,58:260] = RUN ; image[140:250,58:260] = TRICKS ; image[245:295,70:250] = FINALE"
      ]
    },
    {
      "cell_type": "code",
      "execution_count": null,
      "metadata": {
        "colab": {
          "base_uri": "https://localhost:8080/",
          "height": 67
        },
        "id": "1-ZCRdglzVl3",
        "outputId": "f92bbf2e-0623-46cd-ebfd-1e0f54c66ce3"
      },
      "outputs": [
        {
          "data": {
            "image/png": "[encoded data removed]",
            "text/plain": [
              "<PIL.Image.Image image mode=RGB size=140x50>"
            ]
          },
          "metadata": {},
          "output_type": "display_data"
        }
      ],
      "source": [
        "cv2_imshow(image[245:295,70:215])"
      ]
    },
    {
      "cell_type": "code",
      "execution_count": null,
      "metadata": {
        "colab": {
          "base_uri": "https://localhost:8080/",
          "height": 36
        },
        "id": "mr60THksuqcJ",
        "outputId": "83cc310d-1529-4f0b-e35d-bcc747bd44c8"
      },
      "outputs": [
        {
          "data": {
            "application/vnd.google.colaboratory.intrinsic+json": {
              "type": "string"
            },
            "text/plain": [
              "'JAGGER\\n1=Vi0) |\\n\\x0c'"
            ]
          },
          "execution_count": 11,
          "metadata": {},
          "output_type": "execute_result"
        }
      ],
      "source": [
        "text = pytesseract.image_to_string(image[200:250,58:260])\n",
        "text"
      ]
    },
    {
      "cell_type": "code",
      "execution_count": null,
      "metadata": {
        "colab": {
          "base_uri": "https://localhost:8080/"
        },
        "id": "ShZIH6V0pEiy",
        "outputId": "8252a033-ede2-4cde-f9aa-ccf58d9598c5"
      },
      "outputs": [
        {
          "name": "stderr",
          "output_type": "stream",
          "text": [
            "WARNING:easyocr.easyocr:Downloading detection model, please wait. This may take several minutes depending upon your network connection.\n"
          ]
        },
        {
          "name": "stdout",
          "output_type": "stream",
          "text": [
            "Progress: |██████████████████████████████████████████████████| 100.0% Complete"
          ]
        },
        {
          "name": "stderr",
          "output_type": "stream",
          "text": [
            "WARNING:easyocr.easyocr:Downloading recognition model, please wait. This may take several minutes depending upon your network connection.\n"
          ]
        },
        {
          "name": "stdout",
          "output_type": "stream",
          "text": [
            "Progress: |██████████████████████████████████████████████████| 100.0% Complete"
          ]
        }
      ],
      "source": [
        "text_reader = easyocr.Reader(['en']) #Initialzing the ocr"
      ]
    },
    {
      "cell_type": "code",
      "execution_count": null,
      "metadata": {
        "id": "M_3HdGnhyjvZ"
      },
      "outputs": [],
      "source": [
        "#gray = cv2.cvtColor(image[425:480,58:255], cv2.COLOR_BGR2GRAY)\n",
        "#thresh=cv2.threshold(gray, 0, 255, cv2.THRESH_BINARY | cv2.THRESH_OTSU)[1]\n",
        "results = text_reader.readtext(image)"
      ]
    },
    {
      "cell_type": "code",
      "execution_count": null,
      "metadata": {
        "colab": {
          "base_uri": "https://localhost:8080/"
        },
        "id": "Q6FvKLtXqLGM",
        "outputId": "d8f3b911-aeb1-4cb6-ec86-e1883be84287"
      },
      "outputs": [
        {
          "output_type": "execute_result",
          "data": {
            "text/plain": [
              "['CANDY',\n",
              " 'Jacobs',\n",
              " 'ECnRF',\n",
              " 'TfCK LOF L',\n",
              " 'scores',\n",
              " 'JACOBS',\n",
              " 'BATVARD',\n",
              " 'ZWETSLOOT',\n",
              " 'Po5',\n",
              " 'NISHIYA',\n",
              " 'Dloenanuint',\n",
              " 'WakaMA',\n",
              " 'Nakayama',\n",
              " '5.2',\n",
              " 'SUPER']"
            ]
          },
          "metadata": {},
          "execution_count": 25
        }
      ],
      "source": [
        "ath = []\n",
        "for (bbox, text, prob) in results:\n",
        "    ath.append(text)\n",
        "for i in range(len(ath)):\n",
        "   ath[i] = ath[i].replace(\",\",\".\")\n",
        "ath"
      ]
    },
    {
      "cell_type": "code",
      "execution_count": null,
      "metadata": {
        "id": "6vKqoCnZThc0"
      },
      "outputs": [],
      "source": [
        "inter = ath[0].split(\" \")[0:2]\n",
        "for i in range(1,len(ath)):\n",
        "  inter.append(ath[i])\n",
        "print(inter)"
      ]
    },
    {
      "cell_type": "code",
      "execution_count": null,
      "metadata": {
        "colab": {
          "base_uri": "https://localhost:8080/"
        },
        "id": "TF44lK9NVvlg",
        "outputId": "7aa5e056-acb6-4933-90a7-12fe8c4ca0a1"
      },
      "outputs": [
        {
          "data": {
            "text/plain": [
              "['TRicK', '2', '0.0', '0.0']"
            ]
          },
          "execution_count": 243,
          "metadata": {},
          "output_type": "execute_result"
        }
      ],
      "source": [
        "inter = ath[0].split(\" \")[0:2] + [ath[i] for i in range(1,len(ath))]\n",
        "inter"
      ]
    },
    {
      "cell_type": "code",
      "execution_count": null,
      "metadata": {
        "colab": {
          "base_uri": "https://localhost:8080/"
        },
        "id": "APSBr-7jXZJd",
        "outputId": "bec04cc4-c2f9-46d9-978f-5b040a22cd0f"
      },
      "outputs": [
        {
          "data": {
            "text/plain": [
              "False"
            ]
          },
          "execution_count": 246,
          "metadata": {},
          "output_type": "execute_result"
        }
      ],
      "source": [
        "base = ['TRicK', '0', '-1.0','-1.0','-1.0','-1.0']\n",
        "float(base[1+int(base[1])]) > 0"
      ]
    },
    {
      "cell_type": "code",
      "execution_count": null,
      "metadata": {
        "colab": {
          "base_uri": "https://localhost:8080/"
        },
        "id": "lCev-vEybakk",
        "outputId": "792f152e-e701-4baa-87ce-ed9240b52fb1"
      },
      "outputs": [
        {
          "data": {
            "text/plain": [
              "['TRicK', '2', '0.0', '0.0', '-1.0', '-1.0']"
            ]
          },
          "execution_count": 248,
          "metadata": {},
          "output_type": "execute_result"
        }
      ],
      "source": [
        "for i in range(len(inter)):\n",
        "  base[i] = inter[i]\n",
        "  if float(base[1+int(base[1])]) > 0:\n",
        "    timefin.append(j)\n",
        "base"
      ]
    },
    {
      "cell_type": "code",
      "execution_count": null,
      "metadata": {
        "colab": {
          "base_uri": "https://localhost:8080/"
        },
        "id": "sBNH-iYyv5Zw",
        "outputId": "31bb4113-35cd-4bcf-9991-194ab19f003c"
      },
      "outputs": [
        {
          "name": "stdout",
          "output_type": "stream",
          "text": [
            "[9.5]\n"
          ]
        }
      ],
      "source": [
        "nombres = []\n",
        "\n",
        "for element in ath:\n",
        "    if isinstance(element, (int, float)):\n",
        "        nombres.append(element)\n",
        "    elif isinstance(element, str) and element.isdigit():\n",
        "        nombres.append(int(element))\n",
        "    elif isinstance(element, str) and \".\" in element:\n",
        "        nombres.append(float(element))\n",
        "\n",
        "print(nombres)"
      ]
    },
    {
      "cell_type": "code",
      "execution_count": null,
      "metadata": {
        "colab": {
          "base_uri": "https://localhost:8080/"
        },
        "id": "RneqF6DJTTEu",
        "outputId": "ad8131ad-881b-4c3e-c4f6-65a232d77ae6"
      },
      "outputs": [
        {
          "data": {
            "text/plain": [
              "False"
            ]
          },
          "execution_count": 263,
          "metadata": {},
          "output_type": "execute_result"
        }
      ],
      "source": [
        "nombres = [1,9.5]\n",
        "(ath[0] == \"LINE SCORE\" and nombres[-1] != nombres[-2])"
      ]
    },
    {
      "cell_type": "code",
      "execution_count": null,
      "metadata": {
        "id": "GXL68ZRKhp-8"
      },
      "outputs": [],
      "source": [
        "t = []\n",
        "t[0]"
      ]
    },
    {
      "cell_type": "markdown",
      "metadata": {
        "id": "VRd_RhkZbaY3"
      },
      "source": [
        "# Test algo frame-code "
      ]
    },
    {
      "cell_type": "markdown",
      "metadata": {
        "id": "LSu02-8xrEDS"
      },
      "source": [
        "## Avec Pytesseract sur image reduite"
      ]
    },
    {
      "cell_type": "code",
      "execution_count": null,
      "metadata": {
        "id": "S2e030MEbhDV"
      },
      "outputs": [],
      "source": [
        "# Pytesseract avec les prénoms\n",
        "\n",
        "\n",
        "import numpy as np\n",
        "# 4466 = derniere frame\n",
        "athlete = [\"JAGGER EATON\",\"SHANE O'NEILL\",\"KELVIN HOEFLER\",\"LUCAS RABELO\",\"GUSTAVO RIBEIRO\",\"ALEX MIDLER\",\"FELIPE GUSTAVO\",\"NYJAH HUSTON\",\n",
        "           \"JAGGER\",\"EATON\",\"SHANE\",\"O'NEIL\",\"KELVIN\",\"HOEFLER\",\"LUCAS\",\"RABELO\",\"GUSTAVO\",\"RIBEIRO\",\"ALEX\",\"MIDLER\",\"FELIPE\",\"GUSTAVO\",\n",
        "           \"NYJAH\",\"HUSTON\"]\n",
        "nom_athlete = [\"\"]\n",
        "text_frame = []\n",
        "time_frame = []\n",
        "for i in np.arange(1, 4466):\n",
        "  image = cv2.imread('/content/drive/MyDrive/Projet Final/image/'+\"frame %d.0 sec.jpg\" % i)\n",
        "  image = cv2.cvtColor(image, cv2.COLOR_BGR2GRAY) ### Gray\n",
        "  if len(time_frame) >= 0 and len(time_frame) < 8 :  # Run\n",
        "    image = image[200:250,58:260]\n",
        "  elif len(time_frame) >= 8 and len(time_frame) < 40 : # Tricks\n",
        "    image = image[140:190,58:260]\n",
        "  elif len(time_frame) >= 40 and len(time_frame) < 48 :# Final\n",
        "    image = image[245:295,70:250]\n",
        "  text = pytesseract.image_to_string(image)\n",
        "  txt = text.split(\"\\n\")[0]\n",
        "  text_frame.append(txt)\n",
        "  if text_frame[-1] in athlete:\n",
        "    nom_athlete.append(txt)\n",
        "    if nom_athlete[-1] != nom_athlete[-2]:\n",
        "      time_frame.append(i)"
      ]
    },
    {
      "cell_type": "code",
      "execution_count": null,
      "metadata": {
        "colab": {
          "base_uri": "https://localhost:8080/"
        },
        "id": "4dqwqb37sB9n",
        "outputId": "57870149-db02-48ca-d1de-d3c2ce7744a8"
      },
      "outputs": [
        {
          "name": "stdout",
          "output_type": "stream",
          "text": [
            "[327, 454, 582, 676, 1024, 1119, 1220, 1320, 1657, 1721, 1743, 1797, 1855, 1887, 1926, 1961, 2021, 2051, 2112, 2140, 2206, 2256, 2289, 2333, 2601, 2639, 2696, 2726, 2792, 2863, 2915, 2941, 3003, 3045, 3115, 3148, 3208, 3293, 3393, 3444, 3781, 3844, 3889, 3920, 3948, 4032, 4099, 4129]\n"
          ]
        }
      ],
      "source": [
        "print(time_frame)"
      ]
    },
    {
      "cell_type": "code",
      "execution_count": null,
      "metadata": {
        "colab": {
          "base_uri": "https://localhost:8080/"
        },
        "id": "O4qWP2OPOLd_",
        "outputId": "d9e3e4e8-6981-4025-f925-70f1514f5208"
      },
      "outputs": [
        {
          "name": "stdout",
          "output_type": "stream",
          "text": [
            "['', 'JAGGER', 'JAGGER', 'JAGGER', 'JAGGER', 'JAGGER', 'JAGGER', 'JAGGER', 'JAGGER', 'JAGGER', 'JAGGER', 'JAGGER', 'JAGGER', 'JAGGER', 'JAGGER', 'JAGGER', 'JAGGER', 'JAGGER', 'JAGGER', 'JAGGER', 'JAGGER', 'JAGGER', 'JAGGER', 'JAGGER', 'JAGGER', 'JAGGER', 'JAGGER', 'JAGGER', 'JAGGER', 'JAGGER', 'JAGGER', 'JAGGER', 'JAGGER', 'JAGGER', 'JAGGER', 'JAGGER', 'JAGGER', 'JAGGER', 'JAGGER', 'JAGGER', 'JAGGER', 'JAGGER', 'JAGGER', 'JAGGER', 'JAGGER', 'JAGGER', 'JAGGER', 'JAGGER', 'SHANE', 'SHANE', 'SHANE', 'SHANE', 'SHANE', 'SHANE', 'SHANE', 'SHANE', 'SHANE', 'SHANE', 'SHANE', 'SHANE', 'SHANE', 'SHANE', 'SHANE', 'SHANE', 'SHANE', 'SHANE', 'KELVIN', 'KELVIN', 'KELVIN', 'KELVIN', 'KELVIN', 'KELVIN', 'LUCAS', 'LUCAS', 'LUCAS', 'LUCAS', 'LUCAS', 'LUCAS', 'LUCAS', 'LUCAS', 'LUCAS', 'LUCAS', 'LUCAS', 'LUCAS', 'LUCAS', 'LUCAS', 'LUCAS', 'LUCAS', 'LUCAS', 'LUCAS', 'LUCAS', 'LUCAS', 'LUCAS', 'LUCAS', 'LUCAS', 'LUCAS', 'LUCAS', 'LUCAS', 'LUCAS', 'GUSTAVO', 'GUSTAVO', 'GUSTAVO', 'GUSTAVO', 'GUSTAVO', 'GUSTAVO', 'GUSTAVO', 'GUSTAVO', 'GUSTAVO', 'GUSTAVO', 'GUSTAVO', 'GUSTAVO', 'GUSTAVO', 'GUSTAVO', 'GUSTAVO', 'GUSTAVO', 'GUSTAVO', 'GUSTAVO', 'GUSTAVO', 'GUSTAVO', 'GUSTAVO', 'GUSTAVO', 'GUSTAVO', 'GUSTAVO', 'GUSTAVO', 'GUSTAVO', 'GUSTAVO', 'GUSTAVO', 'GUSTAVO', 'GUSTAVO', 'GUSTAVO', 'GUSTAVO', 'GUSTAVO', 'GUSTAVO', 'ALEX', 'ALEX', 'ALEX', 'ALEX', 'ALEX', 'ALEX', 'ALEX', 'ALEX', 'ALEX', 'ALEX', 'ALEX', 'ALEX', 'ALEX', 'ALEX', 'ALEX', 'ALEX', 'ALEX', 'ALEX', 'ALEX', 'ALEX', 'ALEX', 'ALEX', 'ALEX', 'ALEX', 'FELIPE', 'FELIPE', 'FELIPE', 'FELIPE', 'FELIPE', 'FELIPE', 'FELIPE', 'FELIPE', 'FELIPE', 'FELIPE', 'FELIPE', 'FELIPE', 'FELIPE', 'FELIPE', 'FELIPE', 'FELIPE', 'FELIPE', 'FELIPE', 'FELIPE', 'FELIPE', 'FELIPE', 'FELIPE', 'FELIPE', 'FELIPE', 'FELIPE', 'FELIPE', 'FELIPE', 'FELIPE', 'FELIPE', 'NYJAH', 'FELIPE', 'FELIPE', 'FELIPE', 'FELIPE', 'FELIPE', 'FELIPE', 'FELIPE', 'FELIPE', 'FELIPE', 'FELIPE', 'FELIPE', 'FELIPE', 'FELIPE', 'FELIPE', 'FELIPE', 'GUSTAVO', 'GUSTAVO', 'GUSTAVO', 'GUSTAVO', 'GUSTAVO', 'GUSTAVO', 'GUSTAVO', 'GUSTAVO', 'GUSTAVO', 'GUSTAVO', 'GUSTAVO', 'GUSTAVO', 'GUSTAVO', 'ALEX', 'ALEX', 'ALEX', 'ALEX', 'ALEX', 'ALEX', 'ALEX', 'ALEX', 'ALEX', 'ALEX', 'ALEX', 'ALEX', 'ALEX', 'ALEX', 'ALEX', 'ALEX', 'ALEX', 'ALEX', 'ALEX', 'ALEX', 'ALEX', 'ALEX', 'ALEX', 'ALEX', 'ALEX', 'ALEX', 'ALEX', 'ALEX', 'ALEX', 'NYJAH', 'NYJAH', 'NYJAH', 'NYJAH', 'NYJAH', 'NYJAH', 'NYJAH', 'NYJAH', 'NYJAH', 'NYJAH', 'NYJAH', 'NYJAH', 'NYJAH', 'NYJAH', 'NYJAH', 'NYJAH', 'NYJAH', 'KELVIN', 'KELVIN', 'KELVIN', 'KELVIN', 'KELVIN', 'KELVIN', 'LUCAS', 'LUCAS', 'LUCAS', 'LUCAS', 'LUCAS', 'LUCAS', 'LUCAS', 'LUCAS', 'LUCAS', 'LUCAS', 'LUCAS', 'LUCAS', 'LUCAS', 'LUCAS', 'LUCAS', 'LUCAS', 'LUCAS', 'LUCAS', 'LUCAS', 'LUCAS', 'LUCAS', 'LUCAS', 'LUCAS', 'LUCAS', 'LUCAS', 'LUCAS', 'LUCAS', 'LUCAS', 'LUCAS', 'LUCAS', 'LUCAS', 'LUCAS', 'LUCAS', 'LUCAS', 'SHANE', 'SHANE', 'SHANE', 'SHANE', 'SHANE', 'SHANE', 'SHANE', 'SHANE', 'SHANE', 'SHANE', 'SHANE', 'SHANE', 'SHANE', 'SHANE', 'SHANE', 'SHANE', 'SHANE', 'SHANE', 'SHANE', 'SHANE', 'SHANE', 'SHANE', 'SHANE', 'SHANE', 'SHANE', 'SHANE', 'SHANE', 'SHANE', 'SHANE', 'JAGGER', 'JAGGER', 'JAGGER', 'JAGGER', 'JAGGER', 'JAGGER', 'JAGGER', 'JAGGER', 'JAGGER', 'JAGGER', 'JAGGER', 'JAGGER', 'JAGGER', 'JAGGER', 'JAGGER', 'JAGGER', 'JAGGER', 'JAGGER', 'JAGGER', 'JAGGER', 'JAGGER', 'JAGGER', 'JAGGER', 'JAGGER', 'JAGGER', 'JAGGER', 'JAGGER', 'JAGGER', 'JAGGER', 'JAGGER', 'FELIPE', 'FELIPE', 'FELIPE', 'FELIPE', 'FELIPE', 'FELIPE', 'FELIPE', 'FELIPE', 'FELIPE', 'FELIPE', 'FELIPE', 'FELIPE', 'FELIPE', 'GUSTAVO', 'GUSTAVO', 'GUSTAVO', 'GUSTAVO', 'GUSTAVO', 'GUSTAVO', 'GUSTAVO', 'GUSTAVO', 'GUSTAVO', 'GUSTAVO', 'GUSTAVO', 'GUSTAVO', 'GUSTAVO', 'GUSTAVO', 'GUSTAVO', 'GUSTAVO', 'GUSTAVO', 'GUSTAVO', 'GUSTAVO', 'GUSTAVO', 'GUSTAVO', 'GUSTAVO', 'GUSTAVO', 'GUSTAVO', 'GUSTAVO', 'GUSTAVO', 'GUSTAVO', 'GUSTAVO', 'GUSTAVO', 'GUSTAVO', 'GUSTAVO', 'GUSTAVO', 'GUSTAVO', 'GUSTAVO', 'GUSTAVO', 'GUSTAVO', 'ALEX', 'ALEX', 'ALEX', 'ALEX', 'ALEX', 'ALEX', 'ALEX', 'ALEX', 'ALEX', 'ALEX', 'ALEX', 'ALEX', 'ALEX', 'ALEX', 'ALEX', 'ALEX', 'ALEX', 'ALEX', 'ALEX', 'ALEX', 'ALEX', 'ALEX', 'ALEX', 'ALEX', 'ALEX', 'ALEX', 'NYJAH', 'NYJAH', 'NYJAH', 'NYJAH', 'NYJAH', 'NYJAH', 'NYJAH', 'NYJAH', 'NYJAH', 'NYJAH', 'NYJAH', 'NYJAH', 'NYJAH', 'NYJAH', 'NYJAH', 'NYJAH', 'NYJAH', 'NYJAH', 'NYJAH', 'NYJAH', 'NYJAH', 'NYJAH', 'NYJAH', 'NYJAH', 'NYJAH', 'NYJAH', 'NYJAH', 'NYJAH', 'NYJAH', 'NYJAH', 'KELVIN', 'KELVIN', 'KELVIN', 'KELVIN', 'KELVIN', 'KELVIN', 'KELVIN', 'KELVIN', 'LUCAS', 'LUCAS', 'LUCAS', 'LUCAS', 'LUCAS', 'LUCAS', 'LUCAS', 'LUCAS', 'LUCAS', 'LUCAS', 'LUCAS', 'LUCAS', 'LUCAS', 'LUCAS', 'LUCAS', 'LUCAS', 'LUCAS', 'LUCAS', 'LUCAS', 'LUCAS', 'LUCAS', 'LUCAS', 'LUCAS', 'LUCAS', 'LUCAS', 'LUCAS', 'LUCAS', 'LUCAS', 'LUCAS', 'LUCAS', 'LUCAS', 'SHANE', 'SHANE', 'SHANE', 'SHANE', 'SHANE', 'SHANE', 'SHANE', 'SHANE', 'SHANE', 'SHANE', 'SHANE', 'SHANE', 'SHANE', 'SHANE', 'SHANE', 'SHANE', 'SHANE', 'SHANE', 'SHANE', 'SHANE', 'SHANE', 'SHANE', 'SHANE', 'SHANE', 'SHANE', 'SHANE', 'SHANE', 'SHANE', 'SHANE', 'SHANE', 'SHANE', 'SHANE', 'SHANE', 'SHANE', 'JAGGER', 'JAGGER', 'JAGGER', 'JAGGER', 'JAGGER', 'JAGGER', 'JAGGER', 'JAGGER', 'JAGGER', 'JAGGER', 'JAGGER', 'JAGGER', 'JAGGER', 'JAGGER', 'JAGGER', 'JAGGER', 'JAGGER', 'JAGGER', 'JAGGER', 'JAGGER', 'JAGGER', 'JAGGER', 'JAGGER', 'JAGGER', 'JAGGER', 'JAGGER', 'JAGGER', 'JAGGER', 'JAGGER', 'JAGGER', 'JAGGER', 'JAGGER', 'JAGGER', 'JAGGER', 'JAGGER', 'FELIPE', 'FELIPE', 'FELIPE', 'FELIPE', 'FELIPE', 'FELIPE', 'FELIPE', 'FELIPE', 'FELIPE', 'FELIPE', 'GUSTAVO', 'GUSTAVO', 'GUSTAVO', 'GUSTAVO', 'GUSTAVO', 'GUSTAVO', 'GUSTAVO', 'GUSTAVO', 'GUSTAVO', 'GUSTAVO', 'GUSTAVO', 'GUSTAVO', 'GUSTAVO', 'GUSTAVO', 'GUSTAVO', 'GUSTAVO', 'GUSTAVO', 'GUSTAVO', 'GUSTAVO', 'GUSTAVO', 'GUSTAVO', 'GUSTAVO', 'GUSTAVO', 'GUSTAVO', 'GUSTAVO', 'GUSTAVO', 'GUSTAVO', 'GUSTAVO', 'GUSTAVO', 'GUSTAVO', 'GUSTAVO', 'GUSTAVO', 'ALEX', 'ALEX', 'ALEX', 'ALEX', 'ALEX', 'ALEX', 'ALEX', 'ALEX', 'ALEX', 'ALEX', 'ALEX', 'ALEX', 'ALEX', 'ALEX', 'ALEX', 'ALEX', 'ALEX', 'ALEX', 'ALEX', 'ALEX', 'ALEX', 'NYJAH', 'NYJAH', 'NYJAH', 'NYJAH', 'NYJAH', 'NYJAH', 'NYJAH', 'NYJAH', 'NYJAH', 'NYJAH', 'NYJAH', 'NYJAH', 'NYJAH', 'NYJAH', 'NYJAH', 'NYJAH', 'NYJAH', 'NYJAH', 'NYJAH', 'NYJAH', 'NYJAH', 'NYJAH', 'NYJAH', 'NYJAH', 'NYJAH', 'NYJAH', 'KELVIN', 'KELVIN', 'KELVIN', 'KELVIN', 'KELVIN', 'KELVIN', 'KELVIN', 'KELVIN', 'KELVIN', 'LUCAS', 'LUCAS', 'LUCAS', 'LUCAS', 'LUCAS', 'LUCAS', 'LUCAS', 'LUCAS', 'LUCAS', 'LUCAS', 'LUCAS', 'LUCAS', 'LUCAS', 'LUCAS', 'LUCAS', 'LUCAS', 'LUCAS', 'LUCAS', 'LUCAS', 'LUCAS', 'LUCAS', 'LUCAS', 'LUCAS', 'LUCAS', 'LUCAS', 'LUCAS', 'LUCAS', 'LUCAS', 'SHANE', 'SHANE', 'SHANE', 'SHANE', 'SHANE', 'SHANE', 'SHANE', 'SHANE', 'SHANE', 'SHANE', 'SHANE', 'SHANE', 'SHANE', 'SHANE', 'SHANE', 'SHANE', 'JAGGER', 'JAGGER', 'JAGGER', 'JAGGER', 'JAGGER', 'JAGGER', 'JAGGER', 'JAGGER', 'JAGGER', 'JAGGER', 'JAGGER', 'JAGGER', 'JAGGER', 'JAGGER', 'JAGGER', 'JAGGER', 'JAGGER', 'JAGGER', 'JAGGER', 'JAGGER', 'JAGGER', 'JAGGER', 'JAGGER', 'JAGGER', 'JAGGER', 'JAGGER', 'JAGGER', 'JAGGER', 'FELIPE', 'FELIPE', 'FELIPE', 'FELIPE', 'FELIPE', 'FELIPE', 'FELIPE', 'FELIPE', 'FELIPE', 'FELIPE', 'FELIPE', 'FELIPE', 'FELIPE', 'GUSTAVO', 'GUSTAVO', 'GUSTAVO', 'GUSTAVO', 'GUSTAVO', 'GUSTAVO', 'GUSTAVO', 'GUSTAVO', 'GUSTAVO', 'GUSTAVO', 'GUSTAVO', 'GUSTAVO', 'GUSTAVO', 'GUSTAVO', 'GUSTAVO', 'GUSTAVO', 'GUSTAVO', 'GUSTAVO', 'GUSTAVO', 'GUSTAVO', 'GUSTAVO', 'GUSTAVO', 'GUSTAVO', 'GUSTAVO', 'GUSTAVO', 'GUSTAVO', 'GUSTAVO', 'GUSTAVO', 'GUSTAVO', 'GUSTAVO', 'GUSTAVO', 'GUSTAVO', 'GUSTAVO', 'GUSTAVO', 'GUSTAVO', 'GUSTAVO', 'GUSTAVO', 'ALEX', 'ALEX', 'ALEX', 'ALEX', 'ALEX', 'ALEX', 'ALEX', 'ALEX', 'ALEX', 'ALEX', 'ALEX', 'ALEX', 'ALEX', 'ALEX', 'ALEX', 'ALEX', 'ALEX', 'ALEX', 'ALEX', 'ALEX', 'ALEX', 'ALEX', 'ALEX', 'ALEX', 'ALEX', 'ALEX', 'ALEX', 'ALEX', 'NYJAH', 'NYJAH', 'NYJAH', 'NYJAH', 'NYJAH', 'NYJAH', 'NYJAH', 'NYJAH', 'NYJAH', 'NYJAH', 'NYJAH', 'NYJAH', 'NYJAH', 'NYJAH', 'NYJAH', 'NYJAH', 'NYJAH', 'NYJAH', 'NYJAH', 'NYJAH', 'NYJAH', 'NYJAH', 'NYJAH', 'NYJAH', 'NYJAH', 'NYJAH', 'NYJAH', 'NYJAH', 'NYJAH', 'NYJAH', 'NYJAH', 'NYJAH', 'NYJAH', 'NYJAH', 'KELVIN', 'KELVIN', 'KELVIN', 'KELVIN', 'KELVIN', 'KELVIN', 'KELVIN', 'KELVIN', 'KELVIN', 'KELVIN', 'KELVIN', 'KELVIN', 'KELVIN', 'KELVIN', 'KELVIN', 'KELVIN', 'KELVIN', 'KELVIN', 'KELVIN', 'KELVIN', 'LUCAS', 'LUCAS', 'LUCAS', 'LUCAS', 'LUCAS', 'LUCAS', 'LUCAS', 'LUCAS', 'LUCAS', 'LUCAS', 'LUCAS', 'LUCAS', 'LUCAS', 'LUCAS', 'LUCAS', 'LUCAS', 'LUCAS', 'LUCAS', 'LUCAS', 'LUCAS', 'LUCAS', 'LUCAS', 'LUCAS', 'LUCAS', 'LUCAS', 'LUCAS', 'LUCAS', 'LUCAS', 'LUCAS', 'LUCAS', 'LUCAS', 'LUCAS', 'LUCAS', 'LUCAS', 'LUCAS', 'LUCAS', 'LUCAS', 'LUCAS', 'LUCAS', 'LUCAS', 'LUCAS', 'LUCAS', 'LUCAS', 'LUCAS', 'LUCAS', 'LUCAS', 'LUCAS', 'LUCAS', 'LUCAS', 'LUCAS', 'LUCAS', 'LUCAS', 'LUCAS', 'LUCAS', 'LUCAS', 'LUCAS', 'LUCAS', 'LUCAS', 'LUCAS', 'LUCAS', 'LUCAS', 'LUCAS', 'LUCAS', 'LUCAS', 'LUCAS', 'LUCAS', 'LUCAS', 'LUCAS', 'LUCAS', 'LUCAS', 'LUCAS', 'LUCAS', 'LUCAS', 'LUCAS', 'LUCAS', 'LUCAS', 'LUCAS', 'LUCAS', 'SHANE', 'SHANE', 'SHANE', 'SHANE', 'SHANE', 'SHANE', 'SHANE', 'SHANE', 'SHANE', 'SHANE', 'SHANE', 'SHANE', 'SHANE', 'SHANE', 'SHANE', 'SHANE', 'SHANE', 'SHANE', 'SHANE', 'SHANE', 'SHANE', 'SHANE', 'SHANE', 'JAGGER', 'LUCAS', 'LUCAS', 'LUCAS', 'LUCAS', 'LUCAS', 'LUCAS', 'LUCAS', 'LUCAS', 'LUCAS', 'LUCAS', 'LUCAS', 'LUCAS', 'LUCAS', 'LUCAS', 'LUCAS', 'LUCAS', 'LUCAS', 'LUCAS', 'LUCAS', 'LUCAS', 'LUCAS', 'LUCAS', 'LUCAS', 'LUCAS', 'LUCAS', 'LUCAS', 'LUCAS', 'LUCAS', 'LUCAS', 'LUCAS', 'LUCAS', 'LUCAS', 'LUCAS', 'LUCAS', 'LUCAS', 'LUCAS', 'LUCAS', 'LUCAS', 'NYJAH', 'NYJAH', 'NYJAH', 'NYJAH', 'NYJAH', 'NYJAH', 'NYJAH', 'NYJAH', 'NYJAH', 'NYJAH', 'NYJAH', 'NYJAH', 'NYJAH', 'NYJAH', 'NYJAH', 'NYJAH', 'NYJAH', 'NYJAH', 'NYJAH', 'NYJAH', 'NYJAH', 'NYJAH', 'NYJAH', 'NYJAH', 'NYJAH', 'NYJAH', 'NYJAH', 'NYJAH', 'NYJAH', 'NYJAH', 'NYJAH', 'NYJAH', 'NYJAH', 'NYJAH', 'NYJAH', 'NYJAH', 'NYJAH', 'NYJAH', 'NYJAH', 'GUSTAVO', 'GUSTAVO', 'GUSTAVO', 'GUSTAVO', 'GUSTAVO', 'GUSTAVO', 'GUSTAVO', 'GUSTAVO', 'GUSTAVO', 'GUSTAVO', 'GUSTAVO', 'GUSTAVO', 'GUSTAVO', 'GUSTAVO', 'GUSTAVO', 'GUSTAVO', 'GUSTAVO', 'GUSTAVO', 'JAGGER', 'JAGGER', 'JAGGER', 'JAGGER', 'JAGGER', 'JAGGER', 'JAGGER', 'JAGGER', 'JAGGER', 'JAGGER', 'JAGGER', 'JAGGER', 'JAGGER', 'JAGGER', 'JAGGER', 'JAGGER', 'JAGGER', 'JAGGER', 'JAGGER', 'JAGGER', 'JAGGER', 'JAGGER', 'JAGGER', 'JAGGER', 'JAGGER', 'JAGGER', 'JAGGER', 'JAGGER', 'LUCAS', 'LUCAS', 'LUCAS', 'LUCAS', 'LUCAS', 'LUCAS', 'LUCAS', 'LUCAS', 'LUCAS', 'LUCAS', 'LUCAS', 'LUCAS', 'LUCAS', 'LUCAS', 'LUCAS', 'LUCAS', 'LUCAS', 'LUCAS', 'LUCAS', 'LUCAS', 'LUCAS', 'LUCAS', 'LUCAS', 'LUCAS', 'LUCAS', 'LUCAS', 'LUCAS', 'LUCAS', 'LUCAS', 'LUCAS', 'LUCAS', 'LUCAS', 'LUCAS', 'LUCAS', 'LUCAS', 'LUCAS', 'LUCAS', 'LUCAS', 'LUCAS', 'LUCAS', 'LUCAS', 'LUCAS', 'LUCAS', 'LUCAS', 'LUCAS', 'LUCAS', 'LUCAS', 'LUCAS', 'LUCAS', 'LUCAS', 'LUCAS', 'LUCAS', 'LUCAS', 'LUCAS', 'LUCAS', 'LUCAS', 'LUCAS', 'LUCAS', 'LUCAS', 'LUCAS', 'LUCAS', 'LUCAS', 'LUCAS', 'LUCAS', 'LUCAS', 'LUCAS', 'LUCAS', 'LUCAS', 'LUCAS', 'NYJAH', 'NYJAH', 'NYJAH', 'NYJAH', 'NYJAH', 'NYJAH', 'NYJAH', 'NYJAH', 'NYJAH', 'NYJAH', 'NYJAH', 'NYJAH', 'NYJAH', 'NYJAH', 'NYJAH', 'NYJAH', 'NYJAH', 'NYJAH', 'NYJAH', 'NYJAH', 'NYJAH', 'NYJAH', 'NYJAH', 'NYJAH', 'NYJAH', 'NYJAH', 'NYJAH', 'NYJAH', 'NYJAH', 'NYJAH', 'NYJAH', 'NYJAH', 'NYJAH', 'NYJAH', 'NYJAH', 'NYJAH', 'NYJAH', 'NYJAH', 'NYJAH', 'NYJAH', 'NYJAH', 'NYJAH', 'NYJAH', 'NYJAH', 'NYJAH', 'NYJAH', 'NYJAH', 'NYJAH', 'NYJAH', 'NYJAH', 'NYJAH', 'NYJAH', 'NYJAH', 'NYJAH', 'NYJAH', 'NYJAH', 'GUSTAVO', 'GUSTAVO', 'GUSTAVO', 'GUSTAVO', 'GUSTAVO', 'GUSTAVO', 'GUSTAVO', 'GUSTAVO', 'GUSTAVO', 'GUSTAVO', 'GUSTAVO', 'GUSTAVO', 'GUSTAVO', 'GUSTAVO', 'GUSTAVO', 'GUSTAVO', 'GUSTAVO', 'GUSTAVO', 'JAGGER', 'JAGGER', 'JAGGER', 'JAGGER', 'JAGGER']\n"
          ]
        }
      ],
      "source": [
        "print(nom_athlete)"
      ]
    },
    {
      "cell_type": "code",
      "execution_count": null,
      "metadata": {
        "colab": {
          "base_uri": "https://localhost:8080/"
        },
        "id": "t7cWH3JtOU8L",
        "outputId": "0e099b8d-cf4a-49fd-c29d-10552858faec"
      },
      "outputs": [
        {
          "name": "stdout",
          "output_type": "stream",
          "text": [
            "['JAGGER', 'SHANE', 'KELVIN', 'LUCAS', 'GUSTAVO', 'ALEX', 'FELIPE', 'NYJAH', 'FELIPE', 'GUSTAVO', 'ALEX', 'NYJAH', 'KELVIN', 'LUCAS', 'SHANE', 'JAGGER', 'FELIPE', 'GUSTAVO', 'ALEX', 'NYJAH', 'KELVIN', 'LUCAS', 'SHANE', 'JAGGER', 'FELIPE', 'GUSTAVO', 'ALEX', 'NYJAH', 'KELVIN', 'LUCAS', 'SHANE', 'JAGGER', 'FELIPE', 'GUSTAVO', 'ALEX', 'NYJAH', 'KELVIN', 'LUCAS', 'SHANE', 'JAGGER', 'LUCAS', 'NYJAH', 'GUSTAVO', 'JAGGER', 'LUCAS', 'NYJAH', 'GUSTAVO', 'JAGGER']\n"
          ]
        }
      ],
      "source": [
        "nom_ordre = []\n",
        "for i in range(1,len(nom_athlete)):\n",
        "  if nom_athlete[i-1] != nom_athlete[i]:\n",
        "    nom_ordre.append(nom_athlete[i])\n",
        "print(nom_ordre)"
      ]
    },
    {
      "cell_type": "code",
      "execution_count": null,
      "metadata": {
        "colab": {
          "base_uri": "https://localhost:8080/",
          "height": 1000
        },
        "id": "H5MByPqETBDw",
        "outputId": "b9a03b99-5f68-4c12-ad3b-19b67b7dcf69"
      },
      "outputs": [
        {
          "data": {
            "text/html": [
              "\n",
              "  <div id=\"df-a283299c-ff5e-469d-a090-e65484eb9e90\">\n",
              "    <div class=\"colab-df-container\">\n",
              "      <div>\n",
              "<style scoped>\n",
              "    .dataframe tbody tr th:only-of-type {\n",
              "        vertical-align: middle;\n",
              "    }\n",
              "\n",
              "    .dataframe tbody tr th {\n",
              "        vertical-align: top;\n",
              "    }\n",
              "\n",
              "    .dataframe thead th {\n",
              "        text-align: right;\n",
              "    }\n",
              "</style>\n",
              "<table border=\"1\" class=\"dataframe\">\n",
              "  <thead>\n",
              "    <tr style=\"text-align: right;\">\n",
              "      <th></th>\n",
              "      <th>Participant</th>\n",
              "      <th>Time debut</th>\n",
              "      <th>time fin</th>\n",
              "      <th>Prestation</th>\n",
              "      <th>Manche Competition</th>\n",
              "    </tr>\n",
              "  </thead>\n",
              "  <tbody>\n",
              "    <tr>\n",
              "      <th>0</th>\n",
              "      <td>JAGGER</td>\n",
              "      <td>327</td>\n",
              "      <td>454</td>\n",
              "      <td>Run</td>\n",
              "      <td>Finale</td>\n",
              "    </tr>\n",
              "    <tr>\n",
              "      <th>1</th>\n",
              "      <td>SHANE</td>\n",
              "      <td>454</td>\n",
              "      <td>582</td>\n",
              "      <td>Run</td>\n",
              "      <td>Finale</td>\n",
              "    </tr>\n",
              "    <tr>\n",
              "      <th>2</th>\n",
              "      <td>KELVIN</td>\n",
              "      <td>582</td>\n",
              "      <td>676</td>\n",
              "      <td>Run</td>\n",
              "      <td>Finale</td>\n",
              "    </tr>\n",
              "    <tr>\n",
              "      <th>3</th>\n",
              "      <td>LUCAS</td>\n",
              "      <td>676</td>\n",
              "      <td>1024</td>\n",
              "      <td>Run</td>\n",
              "      <td>Finale</td>\n",
              "    </tr>\n",
              "    <tr>\n",
              "      <th>4</th>\n",
              "      <td>GUSTAVO</td>\n",
              "      <td>1024</td>\n",
              "      <td>1119</td>\n",
              "      <td>Run</td>\n",
              "      <td>Finale</td>\n",
              "    </tr>\n",
              "    <tr>\n",
              "      <th>5</th>\n",
              "      <td>ALEX</td>\n",
              "      <td>1119</td>\n",
              "      <td>1220</td>\n",
              "      <td>Run</td>\n",
              "      <td>Finale</td>\n",
              "    </tr>\n",
              "    <tr>\n",
              "      <th>6</th>\n",
              "      <td>FELIPE</td>\n",
              "      <td>1220</td>\n",
              "      <td>1320</td>\n",
              "      <td>Run</td>\n",
              "      <td>Finale</td>\n",
              "    </tr>\n",
              "    <tr>\n",
              "      <th>7</th>\n",
              "      <td>NYJAH</td>\n",
              "      <td>1320</td>\n",
              "      <td>1657</td>\n",
              "      <td>Run</td>\n",
              "      <td>Finale</td>\n",
              "    </tr>\n",
              "    <tr>\n",
              "      <th>8</th>\n",
              "      <td>FELIPE</td>\n",
              "      <td>1657</td>\n",
              "      <td>1721</td>\n",
              "      <td>Tricks 1</td>\n",
              "      <td>Finale</td>\n",
              "    </tr>\n",
              "    <tr>\n",
              "      <th>9</th>\n",
              "      <td>GUSTAVO</td>\n",
              "      <td>1721</td>\n",
              "      <td>1743</td>\n",
              "      <td>Tricks 1</td>\n",
              "      <td>Finale</td>\n",
              "    </tr>\n",
              "    <tr>\n",
              "      <th>10</th>\n",
              "      <td>ALEX</td>\n",
              "      <td>1743</td>\n",
              "      <td>1797</td>\n",
              "      <td>Tricks 1</td>\n",
              "      <td>Finale</td>\n",
              "    </tr>\n",
              "    <tr>\n",
              "      <th>11</th>\n",
              "      <td>NYJAH</td>\n",
              "      <td>1797</td>\n",
              "      <td>1855</td>\n",
              "      <td>Tricks 1</td>\n",
              "      <td>Finale</td>\n",
              "    </tr>\n",
              "    <tr>\n",
              "      <th>12</th>\n",
              "      <td>KELVIN</td>\n",
              "      <td>1855</td>\n",
              "      <td>1887</td>\n",
              "      <td>Tricks 1</td>\n",
              "      <td>Finale</td>\n",
              "    </tr>\n",
              "    <tr>\n",
              "      <th>13</th>\n",
              "      <td>LUCAS</td>\n",
              "      <td>1887</td>\n",
              "      <td>1926</td>\n",
              "      <td>Tricks 1</td>\n",
              "      <td>Finale</td>\n",
              "    </tr>\n",
              "    <tr>\n",
              "      <th>14</th>\n",
              "      <td>SHANE</td>\n",
              "      <td>1926</td>\n",
              "      <td>1961</td>\n",
              "      <td>Tricks 1</td>\n",
              "      <td>Finale</td>\n",
              "    </tr>\n",
              "    <tr>\n",
              "      <th>15</th>\n",
              "      <td>JAGGER</td>\n",
              "      <td>1961</td>\n",
              "      <td>2021</td>\n",
              "      <td>Tricks 1</td>\n",
              "      <td>Finale</td>\n",
              "    </tr>\n",
              "    <tr>\n",
              "      <th>16</th>\n",
              "      <td>FELIPE</td>\n",
              "      <td>2021</td>\n",
              "      <td>2051</td>\n",
              "      <td>Tricks 2</td>\n",
              "      <td>Finale</td>\n",
              "    </tr>\n",
              "    <tr>\n",
              "      <th>17</th>\n",
              "      <td>GUSTAVO</td>\n",
              "      <td>2051</td>\n",
              "      <td>2112</td>\n",
              "      <td>Tricks 2</td>\n",
              "      <td>Finale</td>\n",
              "    </tr>\n",
              "    <tr>\n",
              "      <th>18</th>\n",
              "      <td>ALEX</td>\n",
              "      <td>2112</td>\n",
              "      <td>2140</td>\n",
              "      <td>Tricks 2</td>\n",
              "      <td>Finale</td>\n",
              "    </tr>\n",
              "    <tr>\n",
              "      <th>19</th>\n",
              "      <td>NYJAH</td>\n",
              "      <td>2140</td>\n",
              "      <td>2206</td>\n",
              "      <td>Tricks 2</td>\n",
              "      <td>Finale</td>\n",
              "    </tr>\n",
              "    <tr>\n",
              "      <th>20</th>\n",
              "      <td>KELVIN</td>\n",
              "      <td>2206</td>\n",
              "      <td>2256</td>\n",
              "      <td>Tricks 2</td>\n",
              "      <td>Finale</td>\n",
              "    </tr>\n",
              "    <tr>\n",
              "      <th>21</th>\n",
              "      <td>LUCAS</td>\n",
              "      <td>2256</td>\n",
              "      <td>2289</td>\n",
              "      <td>Tricks 2</td>\n",
              "      <td>Finale</td>\n",
              "    </tr>\n",
              "    <tr>\n",
              "      <th>22</th>\n",
              "      <td>SHANE</td>\n",
              "      <td>2289</td>\n",
              "      <td>2333</td>\n",
              "      <td>Tricks 2</td>\n",
              "      <td>Finale</td>\n",
              "    </tr>\n",
              "    <tr>\n",
              "      <th>23</th>\n",
              "      <td>JAGGER</td>\n",
              "      <td>2333</td>\n",
              "      <td>2601</td>\n",
              "      <td>Tricks 2</td>\n",
              "      <td>Finale</td>\n",
              "    </tr>\n",
              "    <tr>\n",
              "      <th>24</th>\n",
              "      <td>FELIPE</td>\n",
              "      <td>2601</td>\n",
              "      <td>2639</td>\n",
              "      <td>Tricks 3</td>\n",
              "      <td>Finale</td>\n",
              "    </tr>\n",
              "    <tr>\n",
              "      <th>25</th>\n",
              "      <td>GUSTAVO</td>\n",
              "      <td>2639</td>\n",
              "      <td>2696</td>\n",
              "      <td>Tricks 3</td>\n",
              "      <td>Finale</td>\n",
              "    </tr>\n",
              "    <tr>\n",
              "      <th>26</th>\n",
              "      <td>ALEX</td>\n",
              "      <td>2696</td>\n",
              "      <td>2726</td>\n",
              "      <td>Tricks 3</td>\n",
              "      <td>Finale</td>\n",
              "    </tr>\n",
              "    <tr>\n",
              "      <th>27</th>\n",
              "      <td>NYJAH</td>\n",
              "      <td>2726</td>\n",
              "      <td>2792</td>\n",
              "      <td>Tricks 3</td>\n",
              "      <td>Finale</td>\n",
              "    </tr>\n",
              "    <tr>\n",
              "      <th>28</th>\n",
              "      <td>KELVIN</td>\n",
              "      <td>2792</td>\n",
              "      <td>2863</td>\n",
              "      <td>Tricks 3</td>\n",
              "      <td>Finale</td>\n",
              "    </tr>\n",
              "    <tr>\n",
              "      <th>29</th>\n",
              "      <td>LUCAS</td>\n",
              "      <td>2863</td>\n",
              "      <td>2915</td>\n",
              "      <td>Tricks 3</td>\n",
              "      <td>Finale</td>\n",
              "    </tr>\n",
              "    <tr>\n",
              "      <th>30</th>\n",
              "      <td>SHANE</td>\n",
              "      <td>2915</td>\n",
              "      <td>2941</td>\n",
              "      <td>Tricks 3</td>\n",
              "      <td>Finale</td>\n",
              "    </tr>\n",
              "    <tr>\n",
              "      <th>31</th>\n",
              "      <td>JAGGER</td>\n",
              "      <td>2941</td>\n",
              "      <td>3003</td>\n",
              "      <td>Tricks 3</td>\n",
              "      <td>Finale</td>\n",
              "    </tr>\n",
              "    <tr>\n",
              "      <th>32</th>\n",
              "      <td>FELIPE</td>\n",
              "      <td>3003</td>\n",
              "      <td>3045</td>\n",
              "      <td>Tricks 4</td>\n",
              "      <td>Finale</td>\n",
              "    </tr>\n",
              "    <tr>\n",
              "      <th>33</th>\n",
              "      <td>GUSTAVO</td>\n",
              "      <td>3045</td>\n",
              "      <td>3115</td>\n",
              "      <td>Tricks 4</td>\n",
              "      <td>Finale</td>\n",
              "    </tr>\n",
              "    <tr>\n",
              "      <th>34</th>\n",
              "      <td>ALEX</td>\n",
              "      <td>3115</td>\n",
              "      <td>3148</td>\n",
              "      <td>Tricks 4</td>\n",
              "      <td>Finale</td>\n",
              "    </tr>\n",
              "    <tr>\n",
              "      <th>35</th>\n",
              "      <td>NYJAH</td>\n",
              "      <td>3148</td>\n",
              "      <td>3208</td>\n",
              "      <td>Tricks 4</td>\n",
              "      <td>Finale</td>\n",
              "    </tr>\n",
              "    <tr>\n",
              "      <th>36</th>\n",
              "      <td>KELVIN</td>\n",
              "      <td>3208</td>\n",
              "      <td>3293</td>\n",
              "      <td>Tricks 4</td>\n",
              "      <td>Finale</td>\n",
              "    </tr>\n",
              "    <tr>\n",
              "      <th>37</th>\n",
              "      <td>LUCAS</td>\n",
              "      <td>3293</td>\n",
              "      <td>3393</td>\n",
              "      <td>Tricks 4</td>\n",
              "      <td>Finale</td>\n",
              "    </tr>\n",
              "    <tr>\n",
              "      <th>38</th>\n",
              "      <td>SHANE</td>\n",
              "      <td>3393</td>\n",
              "      <td>3444</td>\n",
              "      <td>Tricks 4</td>\n",
              "      <td>Finale</td>\n",
              "    </tr>\n",
              "    <tr>\n",
              "      <th>39</th>\n",
              "      <td>JAGGER</td>\n",
              "      <td>3444</td>\n",
              "      <td>3781</td>\n",
              "      <td>Tricks 4</td>\n",
              "      <td>Finale</td>\n",
              "    </tr>\n",
              "    <tr>\n",
              "      <th>40</th>\n",
              "      <td>LUCAS</td>\n",
              "      <td>3781</td>\n",
              "      <td>3844</td>\n",
              "      <td>Tricks 5</td>\n",
              "      <td>Finale</td>\n",
              "    </tr>\n",
              "    <tr>\n",
              "      <th>41</th>\n",
              "      <td>NYJAH</td>\n",
              "      <td>3844</td>\n",
              "      <td>3889</td>\n",
              "      <td>Tricks 5</td>\n",
              "      <td>Finale</td>\n",
              "    </tr>\n",
              "    <tr>\n",
              "      <th>42</th>\n",
              "      <td>GUSTAVO</td>\n",
              "      <td>3889</td>\n",
              "      <td>3920</td>\n",
              "      <td>Tricks 5</td>\n",
              "      <td>Finale</td>\n",
              "    </tr>\n",
              "    <tr>\n",
              "      <th>43</th>\n",
              "      <td>JAGGER</td>\n",
              "      <td>3920</td>\n",
              "      <td>3948</td>\n",
              "      <td>Tricks 5</td>\n",
              "      <td>Finale</td>\n",
              "    </tr>\n",
              "    <tr>\n",
              "      <th>44</th>\n",
              "      <td>LUCAS</td>\n",
              "      <td>3948</td>\n",
              "      <td>4032</td>\n",
              "      <td>Tricks 6</td>\n",
              "      <td>Finale</td>\n",
              "    </tr>\n",
              "    <tr>\n",
              "      <th>45</th>\n",
              "      <td>NYJAH</td>\n",
              "      <td>4032</td>\n",
              "      <td>4099</td>\n",
              "      <td>Tricks 6</td>\n",
              "      <td>Finale</td>\n",
              "    </tr>\n",
              "    <tr>\n",
              "      <th>46</th>\n",
              "      <td>GUSTAVO</td>\n",
              "      <td>4099</td>\n",
              "      <td>4129</td>\n",
              "      <td>Tricks 6</td>\n",
              "      <td>Finale</td>\n",
              "    </tr>\n",
              "    <tr>\n",
              "      <th>47</th>\n",
              "      <td>JAGGER</td>\n",
              "      <td>4129</td>\n",
              "      <td>4466</td>\n",
              "      <td>Tricks 6</td>\n",
              "      <td>Finale</td>\n",
              "    </tr>\n",
              "  </tbody>\n",
              "</table>\n",
              "</div>\n",
              "      <button class=\"colab-df-convert\" onclick=\"convertToInteractive('df-a283299c-ff5e-469d-a090-e65484eb9e90')\"\n",
              "              title=\"Convert this dataframe to an interactive table.\"\n",
              "              style=\"display:none;\">\n",
              "        \n",
              "  <svg xmlns=\"http://www.w3.org/2000/svg\" height=\"24px\"viewBox=\"0 0 24 24\"\n",
              "       width=\"24px\">\n",
              "    <path d=\"M0 0h24v24H0V0z\" fill=\"none\"/>\n",
              "    <path d=\"M18.56 5.44l.94 2.06.94-2.06 2.06-.94-2.06-.94-.94-2.06-.94 2.06-2.06.94zm-11 1L8.5 8.5l.94-2.06 2.06-.94-2.06-.94L8.5 2.5l-.94 2.06-2.06.94zm10 10l.94 2.06.94-2.06 2.06-.94-2.06-.94-.94-2.06-.94 2.06-2.06.94z\"/><path d=\"M17.41 7.96l-1.37-1.37c-.4-.4-.92-.59-1.43-.59-.52 0-1.04.2-1.43.59L10.3 9.45l-7.72 7.72c-.78.78-.78 2.05 0 2.83L4 21.41c.39.39.9.59 1.41.59.51 0 1.02-.2 1.41-.59l7.78-7.78 2.81-2.81c.8-.78.8-2.07 0-2.86zM5.41 20L4 18.59l7.72-7.72 1.47 1.35L5.41 20z\"/>\n",
              "  </svg>\n",
              "      </button>\n",
              "      \n",
              "  <style>\n",
              "    .colab-df-container {\n",
              "      display:flex;\n",
              "      flex-wrap:wrap;\n",
              "      gap: 12px;\n",
              "    }\n",
              "\n",
              "    .colab-df-convert {\n",
              "      background-color: #E8F0FE;\n",
              "      border: none;\n",
              "      border-radius: 50%;\n",
              "      cursor: pointer;\n",
              "      display: none;\n",
              "      fill: #1967D2;\n",
              "      height: 32px;\n",
              "      padding: 0 0 0 0;\n",
              "      width: 32px;\n",
              "    }\n",
              "\n",
              "    .colab-df-convert:hover {\n",
              "      background-color: #E2EBFA;\n",
              "      box-shadow: 0px 1px 2px rgba(60, 64, 67, 0.3), 0px 1px 3px 1px rgba(60, 64, 67, 0.15);\n",
              "      fill: #174EA6;\n",
              "    }\n",
              "\n",
              "    [theme=dark] .colab-df-convert {\n",
              "      background-color: #3B4455;\n",
              "      fill: #D2E3FC;\n",
              "    }\n",
              "\n",
              "    [theme=dark] .colab-df-convert:hover {\n",
              "      background-color: #434B5C;\n",
              "      box-shadow: 0px 1px 3px 1px rgba(0, 0, 0, 0.15);\n",
              "      filter: drop-shadow(0px 1px 2px rgba(0, 0, 0, 0.3));\n",
              "      fill: #FFFFFF;\n",
              "    }\n",
              "  </style>\n",
              "\n",
              "      <script>\n",
              "        const buttonEl =\n",
              "          document.querySelector('#df-a283299c-ff5e-469d-a090-e65484eb9e90 button.colab-df-convert');\n",
              "        buttonEl.style.display =\n",
              "          google.colab.kernel.accessAllowed ? 'block' : 'none';\n",
              "\n",
              "        async function convertToInteractive(key) {\n",
              "          const element = document.querySelector('#df-a283299c-ff5e-469d-a090-e65484eb9e90');\n",
              "          const dataTable =\n",
              "            await google.colab.kernel.invokeFunction('convertToInteractive',\n",
              "                                                     [key], {});\n",
              "          if (!dataTable) return;\n",
              "\n",
              "          const docLinkHtml = 'Like what you see? Visit the ' +\n",
              "            '<a target=\"_blank\" href=https://colab.research.google.com/notebooks/data_table.ipynb>data table notebook</a>'\n",
              "            + ' to learn more about interactive tables.';\n",
              "          element.innerHTML = '';\n",
              "          dataTable['output_type'] = 'display_data';\n",
              "          await google.colab.output.renderOutput(dataTable, element);\n",
              "          const docLink = document.createElement('div');\n",
              "          docLink.innerHTML = docLinkHtml;\n",
              "          element.appendChild(docLink);\n",
              "        }\n",
              "      </script>\n",
              "    </div>\n",
              "  </div>\n",
              "  "
            ],
            "text/plain": [
              "   Participant  Time debut  time fin Prestation Manche Competition\n",
              "0       JAGGER         327       454        Run             Finale\n",
              "1        SHANE         454       582        Run             Finale\n",
              "2       KELVIN         582       676        Run             Finale\n",
              "3        LUCAS         676      1024        Run             Finale\n",
              "4      GUSTAVO        1024      1119        Run             Finale\n",
              "5         ALEX        1119      1220        Run             Finale\n",
              "6       FELIPE        1220      1320        Run             Finale\n",
              "7        NYJAH        1320      1657        Run             Finale\n",
              "8       FELIPE        1657      1721   Tricks 1             Finale\n",
              "9      GUSTAVO        1721      1743   Tricks 1             Finale\n",
              "10        ALEX        1743      1797   Tricks 1             Finale\n",
              "11       NYJAH        1797      1855   Tricks 1             Finale\n",
              "12      KELVIN        1855      1887   Tricks 1             Finale\n",
              "13       LUCAS        1887      1926   Tricks 1             Finale\n",
              "14       SHANE        1926      1961   Tricks 1             Finale\n",
              "15      JAGGER        1961      2021   Tricks 1             Finale\n",
              "16      FELIPE        2021      2051   Tricks 2             Finale\n",
              "17     GUSTAVO        2051      2112   Tricks 2             Finale\n",
              "18        ALEX        2112      2140   Tricks 2             Finale\n",
              "19       NYJAH        2140      2206   Tricks 2             Finale\n",
              "20      KELVIN        2206      2256   Tricks 2             Finale\n",
              "21       LUCAS        2256      2289   Tricks 2             Finale\n",
              "22       SHANE        2289      2333   Tricks 2             Finale\n",
              "23      JAGGER        2333      2601   Tricks 2             Finale\n",
              "24      FELIPE        2601      2639   Tricks 3             Finale\n",
              "25     GUSTAVO        2639      2696   Tricks 3             Finale\n",
              "26        ALEX        2696      2726   Tricks 3             Finale\n",
              "27       NYJAH        2726      2792   Tricks 3             Finale\n",
              "28      KELVIN        2792      2863   Tricks 3             Finale\n",
              "29       LUCAS        2863      2915   Tricks 3             Finale\n",
              "30       SHANE        2915      2941   Tricks 3             Finale\n",
              "31      JAGGER        2941      3003   Tricks 3             Finale\n",
              "32      FELIPE        3003      3045   Tricks 4             Finale\n",
              "33     GUSTAVO        3045      3115   Tricks 4             Finale\n",
              "34        ALEX        3115      3148   Tricks 4             Finale\n",
              "35       NYJAH        3148      3208   Tricks 4             Finale\n",
              "36      KELVIN        3208      3293   Tricks 4             Finale\n",
              "37       LUCAS        3293      3393   Tricks 4             Finale\n",
              "38       SHANE        3393      3444   Tricks 4             Finale\n",
              "39      JAGGER        3444      3781   Tricks 4             Finale\n",
              "40       LUCAS        3781      3844   Tricks 5             Finale\n",
              "41       NYJAH        3844      3889   Tricks 5             Finale\n",
              "42     GUSTAVO        3889      3920   Tricks 5             Finale\n",
              "43      JAGGER        3920      3948   Tricks 5             Finale\n",
              "44       LUCAS        3948      4032   Tricks 6             Finale\n",
              "45       NYJAH        4032      4099   Tricks 6             Finale\n",
              "46     GUSTAVO        4099      4129   Tricks 6             Finale\n",
              "47      JAGGER        4129      4466   Tricks 6             Finale"
            ]
          },
          "execution_count": 51,
          "metadata": {},
          "output_type": "execute_result"
        }
      ],
      "source": [
        "import pandas as pd\n",
        "x = np.array([\"Run\", \"Tricks 1\", \"Tricks 2\", \"Tricks 3\", \"Tricks 4\", \"Tricks 5\", \"Tricks 6\"])\n",
        "type_course = np.repeat(x, [8, 8, 8, 8, 8, 4, 4], axis=0)\n",
        "manche = [\"Finale\"]*48\n",
        "timecode_2 = time_frame[1:48]\n",
        "timecode_2.append(4466)\n",
        "df = pd.DataFrame(list(zip(nom_ordre,time_frame,timecode_2,type_course,manche)), columns = ['Participant','Time debut','time fin','Prestation','Manche Competition'])\n",
        "df"
      ]
    },
    {
      "cell_type": "markdown",
      "metadata": {
        "id": "nTp6ga04zlKR"
      },
      "source": [
        "## Avec Easy-OCR sur image reduite"
      ]
    },
    {
      "cell_type": "code",
      "execution_count": null,
      "metadata": {
        "colab": {
          "base_uri": "https://localhost:8080/"
        },
        "id": "stYAUcWRzvAg",
        "outputId": "5a8064fe-cf37-4fbe-bc73-f17affee47d3"
      },
      "outputs": [
        {
          "name": "stderr",
          "output_type": "stream",
          "text": [
            "WARNING:easyocr.easyocr:CUDA not available - defaulting to CPU. Note: This module is much faster with a GPU.\n"
          ]
        }
      ],
      "source": [
        "# ALGO complet avec temps de début et de fin en utilisant l'image réduite + que sur les prénoms\n",
        "\n",
        "import numpy as np\n",
        "# 4466 = derniere frame\n",
        "athlete = [\"JAGGER\",\"EATON\",\"SHANE\",\"O'NEILL\",\"KELVIN\",\"HOEFLER\",\"LUCAS\",\n",
        "           \"RABELO\",\"GUSTAVO\",\"RIBEIRO\",\"ALEX\",\"MIDLER\",\"FELIPE\",\"GUSTAVO\",\n",
        "           \"NYJAH\",\"HUSTON\"]\n",
        "nom_athlete = [\"\"]\n",
        "nom_athlete_frame = [0,0]\n",
        "text_frame = []\n",
        "time_frame = []\n",
        "time_frame_fin = []\n",
        "text_reader = easyocr.Reader(['en']) #Initialzing the ocr\n",
        "for i in np.arange(1, 4466):\n",
        "  image = cv2.imread('/content/drive/MyDrive/Projet Final/image/'+\"frame %d.0 sec.jpg\" % i)\n",
        "  image = cv2.cvtColor(image, cv2.COLOR_BGR2GRAY) ### Gray\n",
        "  if len(time_frame) >= 0 and len(time_frame) < 8 :  # Run\n",
        "    image = image[200:250,58:260]\n",
        "  elif len(time_frame) >= 8 and len(time_frame) < 40 : # Tricks\n",
        "    image = image[140:190,58:260]\n",
        "  elif len(time_frame) >= 40 and len(time_frame) < 48 :# Final\n",
        "    image = image[245:295,70:215]\n",
        "  if len(time_frame) == 48:\n",
        "    break\n",
        "  results = text_reader.readtext(image)\n",
        "  ath = []\n",
        "  for (bbox, text, prob) in results:\n",
        "    ath.append(text)\n",
        "  txt = ' '.join(ath[0:1])\n",
        "  text_frame.append(txt)\n",
        "  if text_frame[-1] in athlete:\n",
        "    nom_athlete.append(txt)\n",
        "    nom_athlete_frame.append(i)\n",
        "    if nom_athlete[-1] != nom_athlete[-2]:\n",
        "      time_frame.append(i)\n",
        "      if len(time_frame_fin) == 8 or len(time_frame_fin) == 40:\n",
        "        time_frame_fin.append(nom_athlete_frame[-2]+50)\n",
        "      else:\n",
        "        time_frame_fin.append(nom_athlete_frame[-2])\n",
        "time_frame_fin.append(time_frame[-1]+50)"
      ]
    },
    {
      "cell_type": "code",
      "execution_count": null,
      "metadata": {
        "colab": {
          "base_uri": "https://localhost:8080/"
        },
        "id": "wp19IiFW7AW3",
        "outputId": "728a4a7c-932d-4c82-e492-ba1a97904c49"
      },
      "outputs": [
        {
          "data": {
            "text/plain": [
              "48"
            ]
          },
          "execution_count": 105,
          "metadata": {},
          "output_type": "execute_result"
        }
      ],
      "source": [
        "len(time_frame)"
      ]
    },
    {
      "cell_type": "code",
      "execution_count": null,
      "metadata": {
        "colab": {
          "base_uri": "https://localhost:8080/"
        },
        "id": "2s71d5AB_agq",
        "outputId": "b4742e63-6f14-4123-c897-7f8e4906447e"
      },
      "outputs": [
        {
          "name": "stdout",
          "output_type": "stream",
          "text": [
            "[327, 452, 573, 676, 1024, 1110, 1220, 1315, 1656, 1721, 1743, 1793, 1822, 1887, 1925, 1961, 2021, 2051, 2112, 2140, 2191, 2255, 2289, 2332, 2601, 2638, 2696, 2723, 2786, 2863, 2915, 2941, 2999, 3045, 3114, 3148, 3205, 3293, 3393, 3444, 3778, 3843, 3888, 3920, 3948, 4032, 4099, 4129]\n"
          ]
        }
      ],
      "source": [
        "print(time_frame)"
      ]
    },
    {
      "cell_type": "code",
      "execution_count": null,
      "metadata": {
        "colab": {
          "base_uri": "https://localhost:8080/"
        },
        "id": "Ma5_Pn_579FZ",
        "outputId": "8ed83252-2b5a-4938-97b0-16ab93310799"
      },
      "outputs": [
        {
          "name": "stdout",
          "output_type": "stream",
          "text": [
            "[0, 451, 572, 675, 774, 1109, 1219, 1314, 1365, 1719, 1741, 1791, 1821, 1886, 1924, 1960, 2020, 2049, 2110, 2139, 2190, 2254, 2288, 2331, 2379, 2636, 2695, 2722, 2785, 2862, 2913, 2939, 2998, 3044, 3113, 3147, 3204, 3291, 3392, 3442, 3494, 3841, 3886, 3918, 3947, 4031, 4098, 4128]\n"
          ]
        }
      ],
      "source": [
        "print(time_frame_fin)"
      ]
    },
    {
      "cell_type": "code",
      "execution_count": null,
      "metadata": {
        "id": "NzatOYFw7HO-"
      },
      "outputs": [],
      "source": [
        "time_frame_fin.append(time_frame[-1]+50)"
      ]
    },
    {
      "cell_type": "code",
      "execution_count": null,
      "metadata": {
        "colab": {
          "base_uri": "https://localhost:8080/"
        },
        "id": "5Gnw3cks7JmQ",
        "outputId": "b3923c8c-d101-4d4d-d543-148344532c22"
      },
      "outputs": [
        {
          "name": "stdout",
          "output_type": "stream",
          "text": [
            "[0, 451, 572, 675, 774, 1109, 1219, 1314, 1365, 1719, 1741, 1791, 1821, 1886, 1924, 1960, 2020, 2049, 2110, 2139, 2190, 2254, 2288, 2331, 2379, 2636, 2695, 2722, 2785, 2862, 2913, 2939, 2998, 3044, 3113, 3147, 3204, 3291, 3392, 3442, 3494, 3841, 3886, 3918, 3947, 4031, 4098, 4128, 4179]\n"
          ]
        }
      ],
      "source": [
        "print(time_frame_fin)"
      ]
    },
    {
      "cell_type": "code",
      "execution_count": null,
      "metadata": {
        "colab": {
          "base_uri": "https://localhost:8080/"
        },
        "id": "EJsPza4DsMqz",
        "outputId": "3f7b4d63-7915-44f1-f7dd-f70b1d4cfc1a"
      },
      "outputs": [
        {
          "name": "stdout",
          "output_type": "stream",
          "text": [
            "['JAGGER', 'SHANE', 'KELVIN', 'LUCAS', 'GUSTAVO', 'ALEX', 'FELIPE', 'NYJAH', 'FELIPE', 'GUSTAVO', 'ALEX', 'NYJAH', 'KELVIN', 'LUCAS', 'SHANE', 'JAGGER', 'FELIPE', 'GUSTAVO', 'ALEX', 'NYJAH', 'KELVIN', 'LUCAS', 'SHANE', 'JAGGER', 'FELIPE', 'GUSTAVO', 'ALEX', 'NYJAH', 'KELVIN', 'LUCAS', 'SHANE', 'JAGGER', 'FELIPE', 'GUSTAVO', 'ALEX', 'NYJAH', 'KELVIN', 'LUCAS', 'SHANE', 'JAGGER', 'LUCAS', 'NYJAH', 'GUSTAVO', 'JAGGER', 'LUCAS', 'NYJAH', 'GUSTAVO', 'JAGGER']\n"
          ]
        }
      ],
      "source": [
        "nom_ordre = []\n",
        "for i in range(1,len(nom_athlete)):\n",
        "  if nom_athlete[i-1] != nom_athlete[i]:\n",
        "    nom_ordre.append(nom_athlete[i])\n",
        "print(nom_ordre)"
      ]
    },
    {
      "cell_type": "code",
      "execution_count": null,
      "metadata": {
        "colab": {
          "base_uri": "https://localhost:8080/"
        },
        "id": "15RVYcaNExiY",
        "outputId": "a9831e8e-b951-4715-ef64-beba2b7570ed"
      },
      "outputs": [
        {
          "name": "stdout",
          "output_type": "stream",
          "text": [
            "['EATON', \"O'NEILL\", 'HOEFLER', 'RABELO', 'RIBEIRO', 'MIDLER', 'GUSTAVO', 'HUSTON', 'GUSTAVO', 'RIBEIRO', 'MIDLER', 'HUSTON', 'HOEFLER', 'RABELO', \"O'NEILL\", 'EATON', 'GUSTAVO', 'RIBEIRO', 'MIDLER', 'HUSTON', 'HOEFLER', 'RABELO', \"O'NEILL\", 'EATON', 'GUSTAVO', 'RIBEIRO', 'MIDLER', 'HUSTON', 'HOEFLER', 'RABELO', \"O'NEILL\", 'EATON', 'GUSTAVO', 'RIBEIRO', 'MIDLER', 'HUSTON', 'HOEFLER', 'RABELO', \"O'NEILL\", 'EATON', 'RABELO', 'HUSTON', 'RIBEIRO', 'EATON', 'RABELO', 'HUSTON', 'RIBEIRO', 'EATON']\n"
          ]
        }
      ],
      "source": [
        "prenom_ordre = ['JAGGER', 'SHANE', 'KELVIN', 'LUCAS', 'GUSTAVO', 'ALEX', 'FELIPE', 'NYJAH', 'FELIPE', 'GUSTAVO', 'ALEX', 'NYJAH', 'KELVIN', 'LUCAS', 'SHANE', 'JAGGER', 'FELIPE', 'GUSTAVO', 'ALEX', 'NYJAH', 'KELVIN', 'LUCAS', 'SHANE', 'JAGGER', 'FELIPE', 'GUSTAVO', 'ALEX', 'NYJAH', 'KELVIN', 'LUCAS', 'SHANE', 'JAGGER', 'FELIPE', 'GUSTAVO', 'ALEX', 'NYJAH', 'KELVIN', 'LUCAS', 'SHANE', 'JAGGER', 'LUCAS', 'NYJAH', 'GUSTAVO', 'JAGGER', 'LUCAS', 'NYJAH', 'GUSTAVO', 'JAGGER']\n",
        "time_frame = [327, 452, 573, 676, 1024, 1110, 1220, 1315, 1656, 1721, 1743, 1793, 1822, 1887, 1925, 1961, 2021, 2051, 2112, 2140, 2191, 2255, 2289, 2332, 2601, 2638, 2696, 2723, 2786, 2863, 2915, 2941, 2999, 3045, 3114, 3148, 3205, 3293, 3393, 3444, 3778, 3843, 3888, 3920, 3948, 4032, 4099, 4129]\n",
        "time_frame_fin = [0, 451, 572, 675, 774, 1109, 1219, 1314, 1365, 1719, 1741, 1791, 1821, 1886, 1924, 1960, 2020, 2049, 2110, 2139, 2190, 2254, 2288, 2331, 2379, 2636, 2695, 2722, 2785, 2862, 2913, 2939, 2998, 3044, 3113, 3147, 3204, 3291, 3392, 3442, 3494, 3841, 3886, 3918, 3947, 4031, 4098, 4128, 4179]\n",
        "nom_ordre = [\"\"]*len(prenom_ordre)\n",
        "for i in range(len(prenom_ordre)):\n",
        "  if prenom_ordre[i] == \"JAGGER\":\n",
        "    nom_ordre[i] = \"EATON\"\n",
        "  if prenom_ordre[i] == \"SHANE\":\n",
        "    nom_ordre[i] = \"O'NEILL\"\n",
        "  if prenom_ordre[i] == \"KELVIN\":\n",
        "    nom_ordre[i] = \"HOEFLER\"\n",
        "  if prenom_ordre[i] == \"LUCAS\":\n",
        "    nom_ordre[i] = \"RABELO\"\n",
        "  if prenom_ordre[i] == \"GUSTAVO\":\n",
        "    nom_ordre[i] = \"RIBEIRO\"\n",
        "  if prenom_ordre[i] == \"ALEX\":\n",
        "    nom_ordre[i] = \"MIDLER\"\n",
        "  if prenom_ordre[i] == \"FELIPE\":\n",
        "    nom_ordre[i] = \"GUSTAVO\"\n",
        "  if prenom_ordre[i] == \"NYJAH\":\n",
        "    nom_ordre[i] = \"HUSTON\"\n",
        "print(nom_ordre)"
      ]
    },
    {
      "cell_type": "code",
      "execution_count": null,
      "metadata": {
        "id": "-JzMV_c9Zqxt"
      },
      "outputs": [],
      "source": [
        "for i in frame:\n",
        "  if i in athlete:\n",
        "    t.append(i)\n",
        "  if len(list(set(t))) == 8:\n",
        "    TRUE"
      ]
    },
    {
      "cell_type": "code",
      "execution_count": null,
      "metadata": {
        "colab": {
          "base_uri": "https://localhost:8080/"
        },
        "id": "SZTPmKqsaGJG",
        "outputId": "215280b6-ecb7-413c-babf-266b7817abc0"
      },
      "outputs": [
        {
          "data": {
            "text/plain": [
              "[1, 2]"
            ]
          },
          "execution_count": 23,
          "metadata": {},
          "output_type": "execute_result"
        }
      ],
      "source": [
        "L=[1,1,2]\n",
        "list(set(L))"
      ]
    },
    {
      "cell_type": "code",
      "execution_count": null,
      "metadata": {
        "colab": {
          "base_uri": "https://localhost:8080/",
          "height": 1000
        },
        "id": "TqNO_K5asOwe",
        "outputId": "ca2da2c0-b640-47f8-8e4f-e8707f5007d3"
      },
      "outputs": [
        {
          "data": {
            "text/html": [
              "\n",
              "  <div id=\"df-4c3931fd-2857-4dfc-966c-d48470b67595\">\n",
              "    <div class=\"colab-df-container\">\n",
              "      <div>\n",
              "<style scoped>\n",
              "    .dataframe tbody tr th:only-of-type {\n",
              "        vertical-align: middle;\n",
              "    }\n",
              "\n",
              "    .dataframe tbody tr th {\n",
              "        vertical-align: top;\n",
              "    }\n",
              "\n",
              "    .dataframe thead th {\n",
              "        text-align: right;\n",
              "    }\n",
              "</style>\n",
              "<table border=\"1\" class=\"dataframe\">\n",
              "  <thead>\n",
              "    <tr style=\"text-align: right;\">\n",
              "      <th></th>\n",
              "      <th>Participant</th>\n",
              "      <th>Time debut</th>\n",
              "      <th>time fin</th>\n",
              "      <th>Prestation</th>\n",
              "      <th>Manche Competition</th>\n",
              "    </tr>\n",
              "  </thead>\n",
              "  <tbody>\n",
              "    <tr>\n",
              "      <th>0</th>\n",
              "      <td>JAGGER</td>\n",
              "      <td>327</td>\n",
              "      <td>451</td>\n",
              "      <td>Run</td>\n",
              "      <td>Finale</td>\n",
              "    </tr>\n",
              "    <tr>\n",
              "      <th>1</th>\n",
              "      <td>SHANE</td>\n",
              "      <td>452</td>\n",
              "      <td>572</td>\n",
              "      <td>Run</td>\n",
              "      <td>Finale</td>\n",
              "    </tr>\n",
              "    <tr>\n",
              "      <th>2</th>\n",
              "      <td>KELVIN</td>\n",
              "      <td>573</td>\n",
              "      <td>675</td>\n",
              "      <td>Run</td>\n",
              "      <td>Finale</td>\n",
              "    </tr>\n",
              "    <tr>\n",
              "      <th>3</th>\n",
              "      <td>LUCAS</td>\n",
              "      <td>676</td>\n",
              "      <td>774</td>\n",
              "      <td>Run</td>\n",
              "      <td>Finale</td>\n",
              "    </tr>\n",
              "    <tr>\n",
              "      <th>4</th>\n",
              "      <td>GUSTAVO</td>\n",
              "      <td>1024</td>\n",
              "      <td>1109</td>\n",
              "      <td>Run</td>\n",
              "      <td>Finale</td>\n",
              "    </tr>\n",
              "    <tr>\n",
              "      <th>5</th>\n",
              "      <td>ALEX</td>\n",
              "      <td>1110</td>\n",
              "      <td>1219</td>\n",
              "      <td>Run</td>\n",
              "      <td>Finale</td>\n",
              "    </tr>\n",
              "    <tr>\n",
              "      <th>6</th>\n",
              "      <td>FELIPE</td>\n",
              "      <td>1220</td>\n",
              "      <td>1314</td>\n",
              "      <td>Run</td>\n",
              "      <td>Finale</td>\n",
              "    </tr>\n",
              "    <tr>\n",
              "      <th>7</th>\n",
              "      <td>NYJAH</td>\n",
              "      <td>1315</td>\n",
              "      <td>1365</td>\n",
              "      <td>Run</td>\n",
              "      <td>Finale</td>\n",
              "    </tr>\n",
              "    <tr>\n",
              "      <th>8</th>\n",
              "      <td>FELIPE</td>\n",
              "      <td>1656</td>\n",
              "      <td>1719</td>\n",
              "      <td>Tricks 1</td>\n",
              "      <td>Finale</td>\n",
              "    </tr>\n",
              "    <tr>\n",
              "      <th>9</th>\n",
              "      <td>GUSTAVO</td>\n",
              "      <td>1721</td>\n",
              "      <td>1741</td>\n",
              "      <td>Tricks 1</td>\n",
              "      <td>Finale</td>\n",
              "    </tr>\n",
              "    <tr>\n",
              "      <th>10</th>\n",
              "      <td>ALEX</td>\n",
              "      <td>1743</td>\n",
              "      <td>1791</td>\n",
              "      <td>Tricks 1</td>\n",
              "      <td>Finale</td>\n",
              "    </tr>\n",
              "    <tr>\n",
              "      <th>11</th>\n",
              "      <td>NYJAH</td>\n",
              "      <td>1793</td>\n",
              "      <td>1821</td>\n",
              "      <td>Tricks 1</td>\n",
              "      <td>Finale</td>\n",
              "    </tr>\n",
              "    <tr>\n",
              "      <th>12</th>\n",
              "      <td>KELVIN</td>\n",
              "      <td>1822</td>\n",
              "      <td>1886</td>\n",
              "      <td>Tricks 1</td>\n",
              "      <td>Finale</td>\n",
              "    </tr>\n",
              "    <tr>\n",
              "      <th>13</th>\n",
              "      <td>LUCAS</td>\n",
              "      <td>1887</td>\n",
              "      <td>1924</td>\n",
              "      <td>Tricks 1</td>\n",
              "      <td>Finale</td>\n",
              "    </tr>\n",
              "    <tr>\n",
              "      <th>14</th>\n",
              "      <td>SHANE</td>\n",
              "      <td>1925</td>\n",
              "      <td>1960</td>\n",
              "      <td>Tricks 1</td>\n",
              "      <td>Finale</td>\n",
              "    </tr>\n",
              "    <tr>\n",
              "      <th>15</th>\n",
              "      <td>JAGGER</td>\n",
              "      <td>1961</td>\n",
              "      <td>2020</td>\n",
              "      <td>Tricks 1</td>\n",
              "      <td>Finale</td>\n",
              "    </tr>\n",
              "    <tr>\n",
              "      <th>16</th>\n",
              "      <td>FELIPE</td>\n",
              "      <td>2021</td>\n",
              "      <td>2049</td>\n",
              "      <td>Tricks 2</td>\n",
              "      <td>Finale</td>\n",
              "    </tr>\n",
              "    <tr>\n",
              "      <th>17</th>\n",
              "      <td>GUSTAVO</td>\n",
              "      <td>2051</td>\n",
              "      <td>2110</td>\n",
              "      <td>Tricks 2</td>\n",
              "      <td>Finale</td>\n",
              "    </tr>\n",
              "    <tr>\n",
              "      <th>18</th>\n",
              "      <td>ALEX</td>\n",
              "      <td>2112</td>\n",
              "      <td>2139</td>\n",
              "      <td>Tricks 2</td>\n",
              "      <td>Finale</td>\n",
              "    </tr>\n",
              "    <tr>\n",
              "      <th>19</th>\n",
              "      <td>NYJAH</td>\n",
              "      <td>2140</td>\n",
              "      <td>2190</td>\n",
              "      <td>Tricks 2</td>\n",
              "      <td>Finale</td>\n",
              "    </tr>\n",
              "    <tr>\n",
              "      <th>20</th>\n",
              "      <td>KELVIN</td>\n",
              "      <td>2191</td>\n",
              "      <td>2254</td>\n",
              "      <td>Tricks 2</td>\n",
              "      <td>Finale</td>\n",
              "    </tr>\n",
              "    <tr>\n",
              "      <th>21</th>\n",
              "      <td>LUCAS</td>\n",
              "      <td>2255</td>\n",
              "      <td>2288</td>\n",
              "      <td>Tricks 2</td>\n",
              "      <td>Finale</td>\n",
              "    </tr>\n",
              "    <tr>\n",
              "      <th>22</th>\n",
              "      <td>SHANE</td>\n",
              "      <td>2289</td>\n",
              "      <td>2331</td>\n",
              "      <td>Tricks 2</td>\n",
              "      <td>Finale</td>\n",
              "    </tr>\n",
              "    <tr>\n",
              "      <th>23</th>\n",
              "      <td>JAGGER</td>\n",
              "      <td>2332</td>\n",
              "      <td>2379</td>\n",
              "      <td>Tricks 2</td>\n",
              "      <td>Finale</td>\n",
              "    </tr>\n",
              "    <tr>\n",
              "      <th>24</th>\n",
              "      <td>FELIPE</td>\n",
              "      <td>2601</td>\n",
              "      <td>2636</td>\n",
              "      <td>Tricks 3</td>\n",
              "      <td>Finale</td>\n",
              "    </tr>\n",
              "    <tr>\n",
              "      <th>25</th>\n",
              "      <td>GUSTAVO</td>\n",
              "      <td>2638</td>\n",
              "      <td>2695</td>\n",
              "      <td>Tricks 3</td>\n",
              "      <td>Finale</td>\n",
              "    </tr>\n",
              "    <tr>\n",
              "      <th>26</th>\n",
              "      <td>ALEX</td>\n",
              "      <td>2696</td>\n",
              "      <td>2722</td>\n",
              "      <td>Tricks 3</td>\n",
              "      <td>Finale</td>\n",
              "    </tr>\n",
              "    <tr>\n",
              "      <th>27</th>\n",
              "      <td>NYJAH</td>\n",
              "      <td>2723</td>\n",
              "      <td>2785</td>\n",
              "      <td>Tricks 3</td>\n",
              "      <td>Finale</td>\n",
              "    </tr>\n",
              "    <tr>\n",
              "      <th>28</th>\n",
              "      <td>KELVIN</td>\n",
              "      <td>2786</td>\n",
              "      <td>2862</td>\n",
              "      <td>Tricks 3</td>\n",
              "      <td>Finale</td>\n",
              "    </tr>\n",
              "    <tr>\n",
              "      <th>29</th>\n",
              "      <td>LUCAS</td>\n",
              "      <td>2863</td>\n",
              "      <td>2913</td>\n",
              "      <td>Tricks 3</td>\n",
              "      <td>Finale</td>\n",
              "    </tr>\n",
              "    <tr>\n",
              "      <th>30</th>\n",
              "      <td>SHANE</td>\n",
              "      <td>2915</td>\n",
              "      <td>2939</td>\n",
              "      <td>Tricks 3</td>\n",
              "      <td>Finale</td>\n",
              "    </tr>\n",
              "    <tr>\n",
              "      <th>31</th>\n",
              "      <td>JAGGER</td>\n",
              "      <td>2941</td>\n",
              "      <td>2998</td>\n",
              "      <td>Tricks 3</td>\n",
              "      <td>Finale</td>\n",
              "    </tr>\n",
              "    <tr>\n",
              "      <th>32</th>\n",
              "      <td>FELIPE</td>\n",
              "      <td>2999</td>\n",
              "      <td>3044</td>\n",
              "      <td>Tricks 4</td>\n",
              "      <td>Finale</td>\n",
              "    </tr>\n",
              "    <tr>\n",
              "      <th>33</th>\n",
              "      <td>GUSTAVO</td>\n",
              "      <td>3045</td>\n",
              "      <td>3113</td>\n",
              "      <td>Tricks 4</td>\n",
              "      <td>Finale</td>\n",
              "    </tr>\n",
              "    <tr>\n",
              "      <th>34</th>\n",
              "      <td>ALEX</td>\n",
              "      <td>3114</td>\n",
              "      <td>3147</td>\n",
              "      <td>Tricks 4</td>\n",
              "      <td>Finale</td>\n",
              "    </tr>\n",
              "    <tr>\n",
              "      <th>35</th>\n",
              "      <td>NYJAH</td>\n",
              "      <td>3148</td>\n",
              "      <td>3204</td>\n",
              "      <td>Tricks 4</td>\n",
              "      <td>Finale</td>\n",
              "    </tr>\n",
              "    <tr>\n",
              "      <th>36</th>\n",
              "      <td>KELVIN</td>\n",
              "      <td>3205</td>\n",
              "      <td>3291</td>\n",
              "      <td>Tricks 4</td>\n",
              "      <td>Finale</td>\n",
              "    </tr>\n",
              "    <tr>\n",
              "      <th>37</th>\n",
              "      <td>LUCAS</td>\n",
              "      <td>3293</td>\n",
              "      <td>3392</td>\n",
              "      <td>Tricks 4</td>\n",
              "      <td>Finale</td>\n",
              "    </tr>\n",
              "    <tr>\n",
              "      <th>38</th>\n",
              "      <td>SHANE</td>\n",
              "      <td>3393</td>\n",
              "      <td>3442</td>\n",
              "      <td>Tricks 4</td>\n",
              "      <td>Finale</td>\n",
              "    </tr>\n",
              "    <tr>\n",
              "      <th>39</th>\n",
              "      <td>JAGGER</td>\n",
              "      <td>3444</td>\n",
              "      <td>3494</td>\n",
              "      <td>Tricks 4</td>\n",
              "      <td>Finale</td>\n",
              "    </tr>\n",
              "    <tr>\n",
              "      <th>40</th>\n",
              "      <td>LUCAS</td>\n",
              "      <td>3778</td>\n",
              "      <td>3841</td>\n",
              "      <td>Tricks 5</td>\n",
              "      <td>Finale</td>\n",
              "    </tr>\n",
              "    <tr>\n",
              "      <th>41</th>\n",
              "      <td>NYJAH</td>\n",
              "      <td>3843</td>\n",
              "      <td>3886</td>\n",
              "      <td>Tricks 5</td>\n",
              "      <td>Finale</td>\n",
              "    </tr>\n",
              "    <tr>\n",
              "      <th>42</th>\n",
              "      <td>GUSTAVO</td>\n",
              "      <td>3888</td>\n",
              "      <td>3918</td>\n",
              "      <td>Tricks 5</td>\n",
              "      <td>Finale</td>\n",
              "    </tr>\n",
              "    <tr>\n",
              "      <th>43</th>\n",
              "      <td>JAGGER</td>\n",
              "      <td>3920</td>\n",
              "      <td>3947</td>\n",
              "      <td>Tricks 5</td>\n",
              "      <td>Finale</td>\n",
              "    </tr>\n",
              "    <tr>\n",
              "      <th>44</th>\n",
              "      <td>LUCAS</td>\n",
              "      <td>3948</td>\n",
              "      <td>4031</td>\n",
              "      <td>Tricks 6</td>\n",
              "      <td>Finale</td>\n",
              "    </tr>\n",
              "    <tr>\n",
              "      <th>45</th>\n",
              "      <td>NYJAH</td>\n",
              "      <td>4032</td>\n",
              "      <td>4098</td>\n",
              "      <td>Tricks 6</td>\n",
              "      <td>Finale</td>\n",
              "    </tr>\n",
              "    <tr>\n",
              "      <th>46</th>\n",
              "      <td>GUSTAVO</td>\n",
              "      <td>4099</td>\n",
              "      <td>4128</td>\n",
              "      <td>Tricks 6</td>\n",
              "      <td>Finale</td>\n",
              "    </tr>\n",
              "    <tr>\n",
              "      <th>47</th>\n",
              "      <td>JAGGER</td>\n",
              "      <td>4129</td>\n",
              "      <td>4179</td>\n",
              "      <td>Tricks 6</td>\n",
              "      <td>Finale</td>\n",
              "    </tr>\n",
              "  </tbody>\n",
              "</table>\n",
              "</div>\n",
              "      <button class=\"colab-df-convert\" onclick=\"convertToInteractive('df-4c3931fd-2857-4dfc-966c-d48470b67595')\"\n",
              "              title=\"Convert this dataframe to an interactive table.\"\n",
              "              style=\"display:none;\">\n",
              "        \n",
              "  <svg xmlns=\"http://www.w3.org/2000/svg\" height=\"24px\"viewBox=\"0 0 24 24\"\n",
              "       width=\"24px\">\n",
              "    <path d=\"M0 0h24v24H0V0z\" fill=\"none\"/>\n",
              "    <path d=\"M18.56 5.44l.94 2.06.94-2.06 2.06-.94-2.06-.94-.94-2.06-.94 2.06-2.06.94zm-11 1L8.5 8.5l.94-2.06 2.06-.94-2.06-.94L8.5 2.5l-.94 2.06-2.06.94zm10 10l.94 2.06.94-2.06 2.06-.94-2.06-.94-.94-2.06-.94 2.06-2.06.94z\"/><path d=\"M17.41 7.96l-1.37-1.37c-.4-.4-.92-.59-1.43-.59-.52 0-1.04.2-1.43.59L10.3 9.45l-7.72 7.72c-.78.78-.78 2.05 0 2.83L4 21.41c.39.39.9.59 1.41.59.51 0 1.02-.2 1.41-.59l7.78-7.78 2.81-2.81c.8-.78.8-2.07 0-2.86zM5.41 20L4 18.59l7.72-7.72 1.47 1.35L5.41 20z\"/>\n",
              "  </svg>\n",
              "      </button>\n",
              "      \n",
              "  <style>\n",
              "    .colab-df-container {\n",
              "      display:flex;\n",
              "      flex-wrap:wrap;\n",
              "      gap: 12px;\n",
              "    }\n",
              "\n",
              "    .colab-df-convert {\n",
              "      background-color: #E8F0FE;\n",
              "      border: none;\n",
              "      border-radius: 50%;\n",
              "      cursor: pointer;\n",
              "      display: none;\n",
              "      fill: #1967D2;\n",
              "      height: 32px;\n",
              "      padding: 0 0 0 0;\n",
              "      width: 32px;\n",
              "    }\n",
              "\n",
              "    .colab-df-convert:hover {\n",
              "      background-color: #E2EBFA;\n",
              "      box-shadow: 0px 1px 2px rgba(60, 64, 67, 0.3), 0px 1px 3px 1px rgba(60, 64, 67, 0.15);\n",
              "      fill: #174EA6;\n",
              "    }\n",
              "\n",
              "    [theme=dark] .colab-df-convert {\n",
              "      background-color: #3B4455;\n",
              "      fill: #D2E3FC;\n",
              "    }\n",
              "\n",
              "    [theme=dark] .colab-df-convert:hover {\n",
              "      background-color: #434B5C;\n",
              "      box-shadow: 0px 1px 3px 1px rgba(0, 0, 0, 0.15);\n",
              "      filter: drop-shadow(0px 1px 2px rgba(0, 0, 0, 0.3));\n",
              "      fill: #FFFFFF;\n",
              "    }\n",
              "  </style>\n",
              "\n",
              "      <script>\n",
              "        const buttonEl =\n",
              "          document.querySelector('#df-4c3931fd-2857-4dfc-966c-d48470b67595 button.colab-df-convert');\n",
              "        buttonEl.style.display =\n",
              "          google.colab.kernel.accessAllowed ? 'block' : 'none';\n",
              "\n",
              "        async function convertToInteractive(key) {\n",
              "          const element = document.querySelector('#df-4c3931fd-2857-4dfc-966c-d48470b67595');\n",
              "          const dataTable =\n",
              "            await google.colab.kernel.invokeFunction('convertToInteractive',\n",
              "                                                     [key], {});\n",
              "          if (!dataTable) return;\n",
              "\n",
              "          const docLinkHtml = 'Like what you see? Visit the ' +\n",
              "            '<a target=\"_blank\" href=https://colab.research.google.com/notebooks/data_table.ipynb>data table notebook</a>'\n",
              "            + ' to learn more about interactive tables.';\n",
              "          element.innerHTML = '';\n",
              "          dataTable['output_type'] = 'display_data';\n",
              "          await google.colab.output.renderOutput(dataTable, element);\n",
              "          const docLink = document.createElement('div');\n",
              "          docLink.innerHTML = docLinkHtml;\n",
              "          element.appendChild(docLink);\n",
              "        }\n",
              "      </script>\n",
              "    </div>\n",
              "  </div>\n",
              "  "
            ],
            "text/plain": [
              "   Participant  Time debut  time fin Prestation Manche Competition\n",
              "0       JAGGER         327       451        Run             Finale\n",
              "1        SHANE         452       572        Run             Finale\n",
              "2       KELVIN         573       675        Run             Finale\n",
              "3        LUCAS         676       774        Run             Finale\n",
              "4      GUSTAVO        1024      1109        Run             Finale\n",
              "5         ALEX        1110      1219        Run             Finale\n",
              "6       FELIPE        1220      1314        Run             Finale\n",
              "7        NYJAH        1315      1365        Run             Finale\n",
              "8       FELIPE        1656      1719   Tricks 1             Finale\n",
              "9      GUSTAVO        1721      1741   Tricks 1             Finale\n",
              "10        ALEX        1743      1791   Tricks 1             Finale\n",
              "11       NYJAH        1793      1821   Tricks 1             Finale\n",
              "12      KELVIN        1822      1886   Tricks 1             Finale\n",
              "13       LUCAS        1887      1924   Tricks 1             Finale\n",
              "14       SHANE        1925      1960   Tricks 1             Finale\n",
              "15      JAGGER        1961      2020   Tricks 1             Finale\n",
              "16      FELIPE        2021      2049   Tricks 2             Finale\n",
              "17     GUSTAVO        2051      2110   Tricks 2             Finale\n",
              "18        ALEX        2112      2139   Tricks 2             Finale\n",
              "19       NYJAH        2140      2190   Tricks 2             Finale\n",
              "20      KELVIN        2191      2254   Tricks 2             Finale\n",
              "21       LUCAS        2255      2288   Tricks 2             Finale\n",
              "22       SHANE        2289      2331   Tricks 2             Finale\n",
              "23      JAGGER        2332      2379   Tricks 2             Finale\n",
              "24      FELIPE        2601      2636   Tricks 3             Finale\n",
              "25     GUSTAVO        2638      2695   Tricks 3             Finale\n",
              "26        ALEX        2696      2722   Tricks 3             Finale\n",
              "27       NYJAH        2723      2785   Tricks 3             Finale\n",
              "28      KELVIN        2786      2862   Tricks 3             Finale\n",
              "29       LUCAS        2863      2913   Tricks 3             Finale\n",
              "30       SHANE        2915      2939   Tricks 3             Finale\n",
              "31      JAGGER        2941      2998   Tricks 3             Finale\n",
              "32      FELIPE        2999      3044   Tricks 4             Finale\n",
              "33     GUSTAVO        3045      3113   Tricks 4             Finale\n",
              "34        ALEX        3114      3147   Tricks 4             Finale\n",
              "35       NYJAH        3148      3204   Tricks 4             Finale\n",
              "36      KELVIN        3205      3291   Tricks 4             Finale\n",
              "37       LUCAS        3293      3392   Tricks 4             Finale\n",
              "38       SHANE        3393      3442   Tricks 4             Finale\n",
              "39      JAGGER        3444      3494   Tricks 4             Finale\n",
              "40       LUCAS        3778      3841   Tricks 5             Finale\n",
              "41       NYJAH        3843      3886   Tricks 5             Finale\n",
              "42     GUSTAVO        3888      3918   Tricks 5             Finale\n",
              "43      JAGGER        3920      3947   Tricks 5             Finale\n",
              "44       LUCAS        3948      4031   Tricks 6             Finale\n",
              "45       NYJAH        4032      4098   Tricks 6             Finale\n",
              "46     GUSTAVO        4099      4128   Tricks 6             Finale\n",
              "47      JAGGER        4129      4179   Tricks 6             Finale"
            ]
          },
          "execution_count": 109,
          "metadata": {},
          "output_type": "execute_result"
        }
      ],
      "source": [
        "import pandas as pd\n",
        "x = np.array([\"Run\", \"Tricks 1\", \"Tricks 2\", \"Tricks 3\", \"Tricks 4\", \"Tricks 5\", \"Tricks 6\"])\n",
        "type_course = np.repeat(x, [8, 8, 8, 8, 8, 4, 4], axis=0)\n",
        "manche = [\"Finale\"]*48\n",
        "timecode_2 = time_frame[1:48]\n",
        "timecode_2.append(4466)\n",
        "df = pd.DataFrame(list(zip(nom_ordre,time_frame,time_frame_fin[1:49],type_course,manche)), columns = ['Participant','Time debut','time fin','Prestation','Manche Competition'])\n",
        "df"
      ]
    },
    {
      "cell_type": "code",
      "execution_count": null,
      "metadata": {
        "colab": {
          "base_uri": "https://localhost:8080/",
          "height": 1000
        },
        "id": "3jk3l3-bIbj3",
        "outputId": "555fb9a2-df7d-4f8c-8020-e62d33405a5e"
      },
      "outputs": [
        {
          "data": {
            "text/html": [
              "\n",
              "  <div id=\"df-03064405-901a-4313-9f09-d570a2593892\">\n",
              "    <div class=\"colab-df-container\">\n",
              "      <div>\n",
              "<style scoped>\n",
              "    .dataframe tbody tr th:only-of-type {\n",
              "        vertical-align: middle;\n",
              "    }\n",
              "\n",
              "    .dataframe tbody tr th {\n",
              "        vertical-align: top;\n",
              "    }\n",
              "\n",
              "    .dataframe thead th {\n",
              "        text-align: right;\n",
              "    }\n",
              "</style>\n",
              "<table border=\"1\" class=\"dataframe\">\n",
              "  <thead>\n",
              "    <tr style=\"text-align: right;\">\n",
              "      <th></th>\n",
              "      <th>Prenom</th>\n",
              "      <th>Nom</th>\n",
              "      <th>Time_debut</th>\n",
              "      <th>Time_fin</th>\n",
              "      <th>Prestation</th>\n",
              "      <th>Manche_Competition</th>\n",
              "    </tr>\n",
              "  </thead>\n",
              "  <tbody>\n",
              "    <tr>\n",
              "      <th>0</th>\n",
              "      <td>JAGGER</td>\n",
              "      <td>EATON</td>\n",
              "      <td>327</td>\n",
              "      <td>451</td>\n",
              "      <td>Run</td>\n",
              "      <td>Finale</td>\n",
              "    </tr>\n",
              "    <tr>\n",
              "      <th>1</th>\n",
              "      <td>SHANE</td>\n",
              "      <td>O'NEILL</td>\n",
              "      <td>452</td>\n",
              "      <td>572</td>\n",
              "      <td>Run</td>\n",
              "      <td>Finale</td>\n",
              "    </tr>\n",
              "    <tr>\n",
              "      <th>2</th>\n",
              "      <td>KELVIN</td>\n",
              "      <td>HOEFLER</td>\n",
              "      <td>573</td>\n",
              "      <td>675</td>\n",
              "      <td>Run</td>\n",
              "      <td>Finale</td>\n",
              "    </tr>\n",
              "    <tr>\n",
              "      <th>3</th>\n",
              "      <td>LUCAS</td>\n",
              "      <td>RABELO</td>\n",
              "      <td>676</td>\n",
              "      <td>774</td>\n",
              "      <td>Run</td>\n",
              "      <td>Finale</td>\n",
              "    </tr>\n",
              "    <tr>\n",
              "      <th>4</th>\n",
              "      <td>GUSTAVO</td>\n",
              "      <td>RIBEIRO</td>\n",
              "      <td>1024</td>\n",
              "      <td>1109</td>\n",
              "      <td>Run</td>\n",
              "      <td>Finale</td>\n",
              "    </tr>\n",
              "    <tr>\n",
              "      <th>5</th>\n",
              "      <td>ALEX</td>\n",
              "      <td>MIDLER</td>\n",
              "      <td>1110</td>\n",
              "      <td>1219</td>\n",
              "      <td>Run</td>\n",
              "      <td>Finale</td>\n",
              "    </tr>\n",
              "    <tr>\n",
              "      <th>6</th>\n",
              "      <td>FELIPE</td>\n",
              "      <td>GUSTAVO</td>\n",
              "      <td>1220</td>\n",
              "      <td>1314</td>\n",
              "      <td>Run</td>\n",
              "      <td>Finale</td>\n",
              "    </tr>\n",
              "    <tr>\n",
              "      <th>7</th>\n",
              "      <td>NYJAH</td>\n",
              "      <td>HUSTON</td>\n",
              "      <td>1315</td>\n",
              "      <td>1365</td>\n",
              "      <td>Run</td>\n",
              "      <td>Finale</td>\n",
              "    </tr>\n",
              "    <tr>\n",
              "      <th>8</th>\n",
              "      <td>FELIPE</td>\n",
              "      <td>GUSTAVO</td>\n",
              "      <td>1656</td>\n",
              "      <td>1719</td>\n",
              "      <td>Tricks 1</td>\n",
              "      <td>Finale</td>\n",
              "    </tr>\n",
              "    <tr>\n",
              "      <th>9</th>\n",
              "      <td>GUSTAVO</td>\n",
              "      <td>RIBEIRO</td>\n",
              "      <td>1721</td>\n",
              "      <td>1741</td>\n",
              "      <td>Tricks 1</td>\n",
              "      <td>Finale</td>\n",
              "    </tr>\n",
              "    <tr>\n",
              "      <th>10</th>\n",
              "      <td>ALEX</td>\n",
              "      <td>MIDLER</td>\n",
              "      <td>1743</td>\n",
              "      <td>1791</td>\n",
              "      <td>Tricks 1</td>\n",
              "      <td>Finale</td>\n",
              "    </tr>\n",
              "    <tr>\n",
              "      <th>11</th>\n",
              "      <td>NYJAH</td>\n",
              "      <td>HUSTON</td>\n",
              "      <td>1793</td>\n",
              "      <td>1821</td>\n",
              "      <td>Tricks 1</td>\n",
              "      <td>Finale</td>\n",
              "    </tr>\n",
              "    <tr>\n",
              "      <th>12</th>\n",
              "      <td>KELVIN</td>\n",
              "      <td>HOEFLER</td>\n",
              "      <td>1822</td>\n",
              "      <td>1886</td>\n",
              "      <td>Tricks 1</td>\n",
              "      <td>Finale</td>\n",
              "    </tr>\n",
              "    <tr>\n",
              "      <th>13</th>\n",
              "      <td>LUCAS</td>\n",
              "      <td>RABELO</td>\n",
              "      <td>1887</td>\n",
              "      <td>1924</td>\n",
              "      <td>Tricks 1</td>\n",
              "      <td>Finale</td>\n",
              "    </tr>\n",
              "    <tr>\n",
              "      <th>14</th>\n",
              "      <td>SHANE</td>\n",
              "      <td>O'NEILL</td>\n",
              "      <td>1925</td>\n",
              "      <td>1960</td>\n",
              "      <td>Tricks 1</td>\n",
              "      <td>Finale</td>\n",
              "    </tr>\n",
              "    <tr>\n",
              "      <th>15</th>\n",
              "      <td>JAGGER</td>\n",
              "      <td>EATON</td>\n",
              "      <td>1961</td>\n",
              "      <td>2020</td>\n",
              "      <td>Tricks 1</td>\n",
              "      <td>Finale</td>\n",
              "    </tr>\n",
              "    <tr>\n",
              "      <th>16</th>\n",
              "      <td>FELIPE</td>\n",
              "      <td>GUSTAVO</td>\n",
              "      <td>2021</td>\n",
              "      <td>2049</td>\n",
              "      <td>Tricks 2</td>\n",
              "      <td>Finale</td>\n",
              "    </tr>\n",
              "    <tr>\n",
              "      <th>17</th>\n",
              "      <td>GUSTAVO</td>\n",
              "      <td>RIBEIRO</td>\n",
              "      <td>2051</td>\n",
              "      <td>2110</td>\n",
              "      <td>Tricks 2</td>\n",
              "      <td>Finale</td>\n",
              "    </tr>\n",
              "    <tr>\n",
              "      <th>18</th>\n",
              "      <td>ALEX</td>\n",
              "      <td>MIDLER</td>\n",
              "      <td>2112</td>\n",
              "      <td>2139</td>\n",
              "      <td>Tricks 2</td>\n",
              "      <td>Finale</td>\n",
              "    </tr>\n",
              "    <tr>\n",
              "      <th>19</th>\n",
              "      <td>NYJAH</td>\n",
              "      <td>HUSTON</td>\n",
              "      <td>2140</td>\n",
              "      <td>2190</td>\n",
              "      <td>Tricks 2</td>\n",
              "      <td>Finale</td>\n",
              "    </tr>\n",
              "    <tr>\n",
              "      <th>20</th>\n",
              "      <td>KELVIN</td>\n",
              "      <td>HOEFLER</td>\n",
              "      <td>2191</td>\n",
              "      <td>2254</td>\n",
              "      <td>Tricks 2</td>\n",
              "      <td>Finale</td>\n",
              "    </tr>\n",
              "    <tr>\n",
              "      <th>21</th>\n",
              "      <td>LUCAS</td>\n",
              "      <td>RABELO</td>\n",
              "      <td>2255</td>\n",
              "      <td>2288</td>\n",
              "      <td>Tricks 2</td>\n",
              "      <td>Finale</td>\n",
              "    </tr>\n",
              "    <tr>\n",
              "      <th>22</th>\n",
              "      <td>SHANE</td>\n",
              "      <td>O'NEILL</td>\n",
              "      <td>2289</td>\n",
              "      <td>2331</td>\n",
              "      <td>Tricks 2</td>\n",
              "      <td>Finale</td>\n",
              "    </tr>\n",
              "    <tr>\n",
              "      <th>23</th>\n",
              "      <td>JAGGER</td>\n",
              "      <td>EATON</td>\n",
              "      <td>2332</td>\n",
              "      <td>2379</td>\n",
              "      <td>Tricks 2</td>\n",
              "      <td>Finale</td>\n",
              "    </tr>\n",
              "    <tr>\n",
              "      <th>24</th>\n",
              "      <td>FELIPE</td>\n",
              "      <td>GUSTAVO</td>\n",
              "      <td>2601</td>\n",
              "      <td>2636</td>\n",
              "      <td>Tricks 3</td>\n",
              "      <td>Finale</td>\n",
              "    </tr>\n",
              "    <tr>\n",
              "      <th>25</th>\n",
              "      <td>GUSTAVO</td>\n",
              "      <td>RIBEIRO</td>\n",
              "      <td>2638</td>\n",
              "      <td>2695</td>\n",
              "      <td>Tricks 3</td>\n",
              "      <td>Finale</td>\n",
              "    </tr>\n",
              "    <tr>\n",
              "      <th>26</th>\n",
              "      <td>ALEX</td>\n",
              "      <td>MIDLER</td>\n",
              "      <td>2696</td>\n",
              "      <td>2722</td>\n",
              "      <td>Tricks 3</td>\n",
              "      <td>Finale</td>\n",
              "    </tr>\n",
              "    <tr>\n",
              "      <th>27</th>\n",
              "      <td>NYJAH</td>\n",
              "      <td>HUSTON</td>\n",
              "      <td>2723</td>\n",
              "      <td>2785</td>\n",
              "      <td>Tricks 3</td>\n",
              "      <td>Finale</td>\n",
              "    </tr>\n",
              "    <tr>\n",
              "      <th>28</th>\n",
              "      <td>KELVIN</td>\n",
              "      <td>HOEFLER</td>\n",
              "      <td>2786</td>\n",
              "      <td>2862</td>\n",
              "      <td>Tricks 3</td>\n",
              "      <td>Finale</td>\n",
              "    </tr>\n",
              "    <tr>\n",
              "      <th>29</th>\n",
              "      <td>LUCAS</td>\n",
              "      <td>RABELO</td>\n",
              "      <td>2863</td>\n",
              "      <td>2913</td>\n",
              "      <td>Tricks 3</td>\n",
              "      <td>Finale</td>\n",
              "    </tr>\n",
              "    <tr>\n",
              "      <th>30</th>\n",
              "      <td>SHANE</td>\n",
              "      <td>O'NEILL</td>\n",
              "      <td>2915</td>\n",
              "      <td>2939</td>\n",
              "      <td>Tricks 3</td>\n",
              "      <td>Finale</td>\n",
              "    </tr>\n",
              "    <tr>\n",
              "      <th>31</th>\n",
              "      <td>JAGGER</td>\n",
              "      <td>EATON</td>\n",
              "      <td>2941</td>\n",
              "      <td>2998</td>\n",
              "      <td>Tricks 3</td>\n",
              "      <td>Finale</td>\n",
              "    </tr>\n",
              "    <tr>\n",
              "      <th>32</th>\n",
              "      <td>FELIPE</td>\n",
              "      <td>GUSTAVO</td>\n",
              "      <td>2999</td>\n",
              "      <td>3044</td>\n",
              "      <td>Tricks 4</td>\n",
              "      <td>Finale</td>\n",
              "    </tr>\n",
              "    <tr>\n",
              "      <th>33</th>\n",
              "      <td>GUSTAVO</td>\n",
              "      <td>RIBEIRO</td>\n",
              "      <td>3045</td>\n",
              "      <td>3113</td>\n",
              "      <td>Tricks 4</td>\n",
              "      <td>Finale</td>\n",
              "    </tr>\n",
              "    <tr>\n",
              "      <th>34</th>\n",
              "      <td>ALEX</td>\n",
              "      <td>MIDLER</td>\n",
              "      <td>3114</td>\n",
              "      <td>3147</td>\n",
              "      <td>Tricks 4</td>\n",
              "      <td>Finale</td>\n",
              "    </tr>\n",
              "    <tr>\n",
              "      <th>35</th>\n",
              "      <td>NYJAH</td>\n",
              "      <td>HUSTON</td>\n",
              "      <td>3148</td>\n",
              "      <td>3204</td>\n",
              "      <td>Tricks 4</td>\n",
              "      <td>Finale</td>\n",
              "    </tr>\n",
              "    <tr>\n",
              "      <th>36</th>\n",
              "      <td>KELVIN</td>\n",
              "      <td>HOEFLER</td>\n",
              "      <td>3205</td>\n",
              "      <td>3291</td>\n",
              "      <td>Tricks 4</td>\n",
              "      <td>Finale</td>\n",
              "    </tr>\n",
              "    <tr>\n",
              "      <th>37</th>\n",
              "      <td>LUCAS</td>\n",
              "      <td>RABELO</td>\n",
              "      <td>3293</td>\n",
              "      <td>3392</td>\n",
              "      <td>Tricks 4</td>\n",
              "      <td>Finale</td>\n",
              "    </tr>\n",
              "    <tr>\n",
              "      <th>38</th>\n",
              "      <td>SHANE</td>\n",
              "      <td>O'NEILL</td>\n",
              "      <td>3393</td>\n",
              "      <td>3442</td>\n",
              "      <td>Tricks 4</td>\n",
              "      <td>Finale</td>\n",
              "    </tr>\n",
              "    <tr>\n",
              "      <th>39</th>\n",
              "      <td>JAGGER</td>\n",
              "      <td>EATON</td>\n",
              "      <td>3444</td>\n",
              "      <td>3494</td>\n",
              "      <td>Tricks 4</td>\n",
              "      <td>Finale</td>\n",
              "    </tr>\n",
              "    <tr>\n",
              "      <th>40</th>\n",
              "      <td>LUCAS</td>\n",
              "      <td>RABELO</td>\n",
              "      <td>3778</td>\n",
              "      <td>3841</td>\n",
              "      <td>Tricks 5</td>\n",
              "      <td>Finale</td>\n",
              "    </tr>\n",
              "    <tr>\n",
              "      <th>41</th>\n",
              "      <td>NYJAH</td>\n",
              "      <td>HUSTON</td>\n",
              "      <td>3843</td>\n",
              "      <td>3886</td>\n",
              "      <td>Tricks 5</td>\n",
              "      <td>Finale</td>\n",
              "    </tr>\n",
              "    <tr>\n",
              "      <th>42</th>\n",
              "      <td>GUSTAVO</td>\n",
              "      <td>RIBEIRO</td>\n",
              "      <td>3888</td>\n",
              "      <td>3918</td>\n",
              "      <td>Tricks 5</td>\n",
              "      <td>Finale</td>\n",
              "    </tr>\n",
              "    <tr>\n",
              "      <th>43</th>\n",
              "      <td>JAGGER</td>\n",
              "      <td>EATON</td>\n",
              "      <td>3920</td>\n",
              "      <td>3947</td>\n",
              "      <td>Tricks 5</td>\n",
              "      <td>Finale</td>\n",
              "    </tr>\n",
              "    <tr>\n",
              "      <th>44</th>\n",
              "      <td>LUCAS</td>\n",
              "      <td>RABELO</td>\n",
              "      <td>3948</td>\n",
              "      <td>4031</td>\n",
              "      <td>Tricks 6</td>\n",
              "      <td>Finale</td>\n",
              "    </tr>\n",
              "    <tr>\n",
              "      <th>45</th>\n",
              "      <td>NYJAH</td>\n",
              "      <td>HUSTON</td>\n",
              "      <td>4032</td>\n",
              "      <td>4098</td>\n",
              "      <td>Tricks 6</td>\n",
              "      <td>Finale</td>\n",
              "    </tr>\n",
              "    <tr>\n",
              "      <th>46</th>\n",
              "      <td>GUSTAVO</td>\n",
              "      <td>RIBEIRO</td>\n",
              "      <td>4099</td>\n",
              "      <td>4128</td>\n",
              "      <td>Tricks 6</td>\n",
              "      <td>Finale</td>\n",
              "    </tr>\n",
              "    <tr>\n",
              "      <th>47</th>\n",
              "      <td>JAGGER</td>\n",
              "      <td>EATON</td>\n",
              "      <td>4129</td>\n",
              "      <td>4179</td>\n",
              "      <td>Tricks 6</td>\n",
              "      <td>Finale</td>\n",
              "    </tr>\n",
              "  </tbody>\n",
              "</table>\n",
              "</div>\n",
              "      <button class=\"colab-df-convert\" onclick=\"convertToInteractive('df-03064405-901a-4313-9f09-d570a2593892')\"\n",
              "              title=\"Convert this dataframe to an interactive table.\"\n",
              "              style=\"display:none;\">\n",
              "        \n",
              "  <svg xmlns=\"http://www.w3.org/2000/svg\" height=\"24px\"viewBox=\"0 0 24 24\"\n",
              "       width=\"24px\">\n",
              "    <path d=\"M0 0h24v24H0V0z\" fill=\"none\"/>\n",
              "    <path d=\"M18.56 5.44l.94 2.06.94-2.06 2.06-.94-2.06-.94-.94-2.06-.94 2.06-2.06.94zm-11 1L8.5 8.5l.94-2.06 2.06-.94-2.06-.94L8.5 2.5l-.94 2.06-2.06.94zm10 10l.94 2.06.94-2.06 2.06-.94-2.06-.94-.94-2.06-.94 2.06-2.06.94z\"/><path d=\"M17.41 7.96l-1.37-1.37c-.4-.4-.92-.59-1.43-.59-.52 0-1.04.2-1.43.59L10.3 9.45l-7.72 7.72c-.78.78-.78 2.05 0 2.83L4 21.41c.39.39.9.59 1.41.59.51 0 1.02-.2 1.41-.59l7.78-7.78 2.81-2.81c.8-.78.8-2.07 0-2.86zM5.41 20L4 18.59l7.72-7.72 1.47 1.35L5.41 20z\"/>\n",
              "  </svg>\n",
              "      </button>\n",
              "      \n",
              "  <style>\n",
              "    .colab-df-container {\n",
              "      display:flex;\n",
              "      flex-wrap:wrap;\n",
              "      gap: 12px;\n",
              "    }\n",
              "\n",
              "    .colab-df-convert {\n",
              "      background-color: #E8F0FE;\n",
              "      border: none;\n",
              "      border-radius: 50%;\n",
              "      cursor: pointer;\n",
              "      display: none;\n",
              "      fill: #1967D2;\n",
              "      height: 32px;\n",
              "      padding: 0 0 0 0;\n",
              "      width: 32px;\n",
              "    }\n",
              "\n",
              "    .colab-df-convert:hover {\n",
              "      background-color: #E2EBFA;\n",
              "      box-shadow: 0px 1px 2px rgba(60, 64, 67, 0.3), 0px 1px 3px 1px rgba(60, 64, 67, 0.15);\n",
              "      fill: #174EA6;\n",
              "    }\n",
              "\n",
              "    [theme=dark] .colab-df-convert {\n",
              "      background-color: #3B4455;\n",
              "      fill: #D2E3FC;\n",
              "    }\n",
              "\n",
              "    [theme=dark] .colab-df-convert:hover {\n",
              "      background-color: #434B5C;\n",
              "      box-shadow: 0px 1px 3px 1px rgba(0, 0, 0, 0.15);\n",
              "      filter: drop-shadow(0px 1px 2px rgba(0, 0, 0, 0.3));\n",
              "      fill: #FFFFFF;\n",
              "    }\n",
              "  </style>\n",
              "\n",
              "      <script>\n",
              "        const buttonEl =\n",
              "          document.querySelector('#df-03064405-901a-4313-9f09-d570a2593892 button.colab-df-convert');\n",
              "        buttonEl.style.display =\n",
              "          google.colab.kernel.accessAllowed ? 'block' : 'none';\n",
              "\n",
              "        async function convertToInteractive(key) {\n",
              "          const element = document.querySelector('#df-03064405-901a-4313-9f09-d570a2593892');\n",
              "          const dataTable =\n",
              "            await google.colab.kernel.invokeFunction('convertToInteractive',\n",
              "                                                     [key], {});\n",
              "          if (!dataTable) return;\n",
              "\n",
              "          const docLinkHtml = 'Like what you see? Visit the ' +\n",
              "            '<a target=\"_blank\" href=https://colab.research.google.com/notebooks/data_table.ipynb>data table notebook</a>'\n",
              "            + ' to learn more about interactive tables.';\n",
              "          element.innerHTML = '';\n",
              "          dataTable['output_type'] = 'display_data';\n",
              "          await google.colab.output.renderOutput(dataTable, element);\n",
              "          const docLink = document.createElement('div');\n",
              "          docLink.innerHTML = docLinkHtml;\n",
              "          element.appendChild(docLink);\n",
              "        }\n",
              "      </script>\n",
              "    </div>\n",
              "  </div>\n",
              "  "
            ],
            "text/plain": [
              "     Prenom      Nom  Time_debut  Time_fin Prestation Manche_Competition\n",
              "0    JAGGER    EATON         327       451        Run             Finale\n",
              "1     SHANE  O'NEILL         452       572        Run             Finale\n",
              "2    KELVIN  HOEFLER         573       675        Run             Finale\n",
              "3     LUCAS   RABELO         676       774        Run             Finale\n",
              "4   GUSTAVO  RIBEIRO        1024      1109        Run             Finale\n",
              "5      ALEX   MIDLER        1110      1219        Run             Finale\n",
              "6    FELIPE  GUSTAVO        1220      1314        Run             Finale\n",
              "7     NYJAH   HUSTON        1315      1365        Run             Finale\n",
              "8    FELIPE  GUSTAVO        1656      1719   Tricks 1             Finale\n",
              "9   GUSTAVO  RIBEIRO        1721      1741   Tricks 1             Finale\n",
              "10     ALEX   MIDLER        1743      1791   Tricks 1             Finale\n",
              "11    NYJAH   HUSTON        1793      1821   Tricks 1             Finale\n",
              "12   KELVIN  HOEFLER        1822      1886   Tricks 1             Finale\n",
              "13    LUCAS   RABELO        1887      1924   Tricks 1             Finale\n",
              "14    SHANE  O'NEILL        1925      1960   Tricks 1             Finale\n",
              "15   JAGGER    EATON        1961      2020   Tricks 1             Finale\n",
              "16   FELIPE  GUSTAVO        2021      2049   Tricks 2             Finale\n",
              "17  GUSTAVO  RIBEIRO        2051      2110   Tricks 2             Finale\n",
              "18     ALEX   MIDLER        2112      2139   Tricks 2             Finale\n",
              "19    NYJAH   HUSTON        2140      2190   Tricks 2             Finale\n",
              "20   KELVIN  HOEFLER        2191      2254   Tricks 2             Finale\n",
              "21    LUCAS   RABELO        2255      2288   Tricks 2             Finale\n",
              "22    SHANE  O'NEILL        2289      2331   Tricks 2             Finale\n",
              "23   JAGGER    EATON        2332      2379   Tricks 2             Finale\n",
              "24   FELIPE  GUSTAVO        2601      2636   Tricks 3             Finale\n",
              "25  GUSTAVO  RIBEIRO        2638      2695   Tricks 3             Finale\n",
              "26     ALEX   MIDLER        2696      2722   Tricks 3             Finale\n",
              "27    NYJAH   HUSTON        2723      2785   Tricks 3             Finale\n",
              "28   KELVIN  HOEFLER        2786      2862   Tricks 3             Finale\n",
              "29    LUCAS   RABELO        2863      2913   Tricks 3             Finale\n",
              "30    SHANE  O'NEILL        2915      2939   Tricks 3             Finale\n",
              "31   JAGGER    EATON        2941      2998   Tricks 3             Finale\n",
              "32   FELIPE  GUSTAVO        2999      3044   Tricks 4             Finale\n",
              "33  GUSTAVO  RIBEIRO        3045      3113   Tricks 4             Finale\n",
              "34     ALEX   MIDLER        3114      3147   Tricks 4             Finale\n",
              "35    NYJAH   HUSTON        3148      3204   Tricks 4             Finale\n",
              "36   KELVIN  HOEFLER        3205      3291   Tricks 4             Finale\n",
              "37    LUCAS   RABELO        3293      3392   Tricks 4             Finale\n",
              "38    SHANE  O'NEILL        3393      3442   Tricks 4             Finale\n",
              "39   JAGGER    EATON        3444      3494   Tricks 4             Finale\n",
              "40    LUCAS   RABELO        3778      3841   Tricks 5             Finale\n",
              "41    NYJAH   HUSTON        3843      3886   Tricks 5             Finale\n",
              "42  GUSTAVO  RIBEIRO        3888      3918   Tricks 5             Finale\n",
              "43   JAGGER    EATON        3920      3947   Tricks 5             Finale\n",
              "44    LUCAS   RABELO        3948      4031   Tricks 6             Finale\n",
              "45    NYJAH   HUSTON        4032      4098   Tricks 6             Finale\n",
              "46  GUSTAVO  RIBEIRO        4099      4128   Tricks 6             Finale\n",
              "47   JAGGER    EATON        4129      4179   Tricks 6             Finale"
            ]
          },
          "execution_count": 17,
          "metadata": {},
          "output_type": "execute_result"
        }
      ],
      "source": [
        "import pandas as pd\n",
        "import numpy as np\n",
        "x = np.array([\"Run\", \"Tricks 1\", \"Tricks 2\", \"Tricks 3\", \"Tricks 4\", \"Tricks 5\", \"Tricks 6\"])\n",
        "type_course = np.repeat(x, [8, 8, 8, 8, 8, 4, 4], axis=0)\n",
        "manche = [\"Finale\"]*48\n",
        "timecode_2 = time_frame[1:48]\n",
        "timecode_2.append(4466)\n",
        "df = pd.DataFrame(list(zip(prenom_ordre,nom_ordre,time_frame,time_frame_fin[1:49],type_course,manche)), columns = ['Prenom','Nom','Time_debut','Time_fin','Prestation','Manche_Competition'])\n",
        "df"
      ]
    },
    {
      "cell_type": "code",
      "execution_count": null,
      "metadata": {
        "colab": {
          "base_uri": "https://localhost:8080/"
        },
        "id": "I6VyLhheGolU",
        "outputId": "261471e4-f2af-4a7e-a2d8-742966c8de80"
      },
      "outputs": [
        {
          "name": "stdout",
          "output_type": "stream",
          "text": [
            "[0, 4, 5, 7, 8, 13]\n"
          ]
        }
      ],
      "source": [
        "# ALGO POUR UIILISER LES NOTES COMME INDICATEUR DE FIN DES RUNS\n",
        "\n",
        "import numpy as np\n",
        "import pandas as pd\n",
        "# 4466 = derniere frame    SHANE 0'NEILL\n",
        "athlete = [\"JAGGER EATON\",\"SHANE O'NEILL\",\"KELVIN HOEFLER\",\"LUCAS RABELO\",\"GUSTAVO RIBEIRO\",\"ALEX MIDLER\",\"FELIPE GUSTAVO\",\"NYJAH HUSTON\"]\n",
        "\n",
        "nom_athlete = [\"\"]\n",
        "text_frame = []\n",
        "time_frame = []\n",
        "nombres = []\n",
        "for i in np.arange(400, 547):\n",
        "  image = cv2.imread('/content/drive/MyDrive/Projet Final/image/'+\"frame %d.0 sec.jpg\" % i)\n",
        "  # Lecture du carré avec EasyOCR\n",
        "  result = text_reader.readtext(image[315:375,70:250])\n",
        "  ath = []\n",
        "  for (bbox, text, prob) in result:\n",
        "    ath.append(text)\n",
        "  text_frame.append(ath)\n",
        "  for element in ath:\n",
        "    if isinstance(element, (int, float)):\n",
        "        nombres.append(element)\n",
        "    elif isinstance(element, str) and element.isdigit():\n",
        "        nombres.append(int(element))\n",
        "    elif isinstance(element, str) and \".\" in element:\n",
        "        nombres.append(float(element))\n",
        "  #if len(ath)>0:\n",
        "   # if ath[0] == \"LINE SCORE\":\n",
        "     # if nombres[-1] != nombres[-2]:\n",
        "       # time_frame.append(i)  \n",
        "for j in range(len(nombres)):\n",
        "  if nombres[j-1] != nombres[j]:\n",
        "    time_frame.append(j)\n",
        "print(time_frame)"
      ]
    },
    {
      "cell_type": "code",
      "execution_count": null,
      "metadata": {
        "id": "Y57nsHSyk65l"
      },
      "outputs": [],
      "source": [
        "import numpy as np\n",
        "# ALGO POUR UTILISER \"UP NEXT\" COMME INDICATION DE TEMPS DE FIN\n",
        "\n",
        "athlete = [\"JAGGER EATON\",\"SHANE O'NEILL\",\"KELVIN HOEFLER\",\"LUCAS RABELO\",\"GUSTAVO RIBEIRO\",\"ALEX MIDLER\",\"FELIPE GUSTAVO\",\"NYJAH HUSTON\",\n",
        "           \"JAGGER\",\"EATON\",\"SHANE\",\"O'NEILL\",\"KELVIN\",\"HOEFLER\",\"LUCAS\",\"RABELO\",\"GUSTAVO\",\"RIBEIRO\",\"ALEX\",\"MIDLER\",\"FELIPE\",\"GUSTAVO\",\n",
        "           \"NYJAH\",\"HUSTON\",\"O\",\"NEILL\",\"O NEILL\"]\n",
        "nom_athlete = [\"\"]\n",
        "text_frame = []\n",
        "time_frame = []\n",
        "nombres = []\n",
        "final = [0,0]\n",
        "text_reader = easyocr.Reader(['en']) #Initialzing the ocr\n",
        "for i in np.arange(1, 4466):\n",
        "  image = cv2.imread('/content/drive/MyDrive/Projet Final/image/'+\"frame %d.0 sec.jpg\" % i)\n",
        "  image = cv2.cvtColor(image, cv2.COLOR_BGR2GRAY) ### Gray\n",
        "  image1 = image[630:680,110:205]\n",
        "  results = text_reader.readtext(image1)\n",
        "  ath = []\n",
        "  for (bbox, text, prob) in results:\n",
        "    ath.append(text)\n",
        "  if len(ath) > 0 and ath[0] == \"UP NEXT\":    \n",
        "    text_frame.append(ath[1].replace(\"0\",\"\").replace(\" \",\"\").replace(\"'\",\"\"))\n",
        "    if text_frame[-1] in athlete:\n",
        "      nom_athlete.append(text_frame[-1])\n",
        "      if nom_athlete[-1] != nom_athlete[-2]:\n",
        "        time_frame.append(i)\n",
        "  if len(time_frame) == 7: \n",
        "          image2 = image[320:370,58:260]\n",
        "          results = text_reader.readtext(image2)\n",
        "          ath = []\n",
        "          for (bbox, text, prob) in results:\n",
        "            ath.append(text)\n",
        "          if len(ath) > 0 and ath[0] == \"LINE SCORE\":\n",
        "            for element in ath:\n",
        "              if isinstance(element, (int, float)):\n",
        "                nombres.append(element)\n",
        "              elif isinstance(element, str) and element.isdigit():\n",
        "                nombres.append(int(element))\n",
        "              elif isinstance(element, str) and \".\" in element:\n",
        "                nombres.append(float(element))\n",
        "          if len(nombres) > 2 and nombres[-1] != nombres[-2]:\n",
        "              time_frame.append(i)\n",
        "  if len(time_frame) == 47 or len(time_frame) == 39: \n",
        "          image3 = image[630:680,110:205]\n",
        "          results = text_reader.readtext(image3)\n",
        "          ath = []\n",
        "          for (bbox, text, prob) in results:\n",
        "            ath.append(text)\n",
        "          if len(ath) > 0 and ath[0] == \"FINAL\":\n",
        "            final.append(1)\n",
        "          if len(final) > 2 and final[-1] != final[-2]:\n",
        "            time_frame.append(i)\n",
        "  "
      ]
    },
    {
      "cell_type": "code",
      "execution_count": null,
      "metadata": {
        "colab": {
          "base_uri": "https://localhost:8080/"
        },
        "id": "JQw9pSfQ0YM5",
        "outputId": "efac9c2d-9f97-4700-aebf-6d512c0ff18b"
      },
      "outputs": [
        {
          "name": "stdout",
          "output_type": "stream",
          "text": [
            "[425, 543, 668, 768, 1102, 1211, 1309, 1414, 1709, 1733, 1786, 1807, 1874, 1916, 1942, 2008, 2045, 2096, 2130, 2179, 2244, 2282, 2318, 2356, 2626, 2684, 2710, 2772, 2852, 2905, 2933, 2990, 3034, 3106, 3132, 3192, 3271, 3375, 3437, 3437, 3695, 3871, 3909, 3939, 4023, 4077, 4128, 4128]\n"
          ]
        }
      ],
      "source": [
        "print(time_frame)"
      ]
    },
    {
      "cell_type": "code",
      "execution_count": null,
      "metadata": {
        "colab": {
          "base_uri": "https://localhost:8080/"
        },
        "id": "8zMAI6KmRVSk",
        "outputId": "848d94e6-cbea-49e2-c285-99797a8363ea"
      },
      "outputs": [
        {
          "data": {
            "text/plain": [
              "[4.3, 4.3, 4.3, 4.3, 4.3, 4.3, 6.8, 5.2]"
            ]
          },
          "execution_count": 463,
          "metadata": {},
          "output_type": "execute_result"
        }
      ],
      "source": [
        "nombres"
      ]
    },
    {
      "cell_type": "markdown",
      "metadata": {
        "id": "RkjDdB0arHYi"
      },
      "source": [
        "## Avec Easy-OCR sur image totale"
      ]
    },
    {
      "cell_type": "code",
      "execution_count": null,
      "metadata": {
        "id": "gMTWAyLKtrGE"
      },
      "outputs": [],
      "source": [
        "# ALGORITHME BONNE FRAME\n",
        "\n",
        "athlete = [\"JAGGER EATON\",\"SHANE NEILL\",\"KELVIN HOEFLER\",\"LUCAS RABELO\",\"GUSTAVO RIBEIRO\",\"ALEX MIDLER\",\"FELIPE GUSTAVO\",\"NYJAH HUSTON\"]\n",
        "athletes_finaliste = [\"JAGGER EATON\",\"LUCAS RABELO\",\"GUSTAVO RIBEIRO\", \"NYJAH HUSTON\"\t]\n",
        "\n",
        "def bonne_frame(athlete,  athletes_finaliste,list_c):\n",
        "  list_comparaison = []\n",
        "  athlete2 = []\n",
        "  athletes_finaliste2 = []\n",
        "  athlete = (\" \".join(athlete))\n",
        "  athlete = athlete.split()\n",
        "  athletes_finaliste = (\" \".join(athletes_finaliste))\n",
        "  athletes_finaliste = athletes_finaliste.split()\n",
        "  list_result = [] # initialisation de la liste contenant les True or False pour indiquer si les element de athlete sont a l'interieur de la list comparaison\n",
        "\n",
        "  \n",
        "  bonne_frame = True\n",
        "  \n",
        "  for i in range(1,len(athlete),2):\n",
        "    athlete2.append(athlete[i])\n",
        "  for i in range(1,len(athletes_finaliste),2):\n",
        "    athletes_finaliste2.append(athletes_finaliste[i])\n",
        "  if len(list_c) > 0:\n",
        "    for i in list_c:\n",
        "      if i == \"SCORES\" or i == \"scones\" or i == \"scores\" :\n",
        "        for x in np.arange(list_c.index(i),len(list_c)):\n",
        "          list_comparaison.append(list_c[x])\n",
        "  #print(res)\n",
        "    for i in athlete2 :   # on verfie si tout nos participant sont dans la liste contenue dans le carré des nom\n",
        "      for j in list_comparaison:\n",
        "        if i  != j:\n",
        "          list_result.append(False)\n",
        "        else:\n",
        "          list_result.append(True)\n",
        "    if sum(list_result)   >= len(athlete2): #sum() pour compter le nombre de true == le nombres de nos atheletes se trouvant dans la liste de comparaison \n",
        "      bonne_frame = True\n",
        "    else :\n",
        "      bonne_frame = False \n",
        "    \n",
        "    if bonne_frame == False:\n",
        "      list_result = []\n",
        "      for i in athletes_finaliste2:\n",
        "        for j in list_comparaison:\n",
        "          if i  != j:\n",
        "            list_result.append(False)\n",
        "          else:\n",
        "            list_result.append(True)\n",
        "      if sum(list_result)   >= len(athletes_finaliste2): #sum() pour compter le nombre de true == le nombres de nos atheletes finalistes se trouvant dans la liste de comparaison \n",
        "          bonne_frame = True\n",
        "      else :\n",
        "          bonne_frame = False\n",
        "  return bonne_frame"
      ]
    },
    {
      "cell_type": "code",
      "execution_count": null,
      "metadata": {
        "id": "TzJXaMlUsHoM"
      },
      "outputs": [],
      "source": [
        "# ALGO SUR L IMAGE TOTAL AVEC EASYOCR + NOM_PRENOM + LES TEMPS DE FIN SONT LES TEMPS DE DEBUT DE LA PROCHAIN PRESTATION\n",
        "\n",
        "import numpy as np\n",
        "athlete = [\"JAGGER EATON\",\"SHANE NEILL\",\n",
        "           \"KELVIN HOEFLER\",\"LUCAS RABELO\",\n",
        "           \"GUSTAVO RIBEIRO\",\"ALEX MIDLER\",\n",
        "           \"FELIPE GUSTAVO\",\"NYJAH HUSTON\"]\n",
        "athletes_finaliste = [\"JAGGER EATON\",\"LUCAS RABELO\",\"GUSTAVO RIBEIRO\", \"NYJAH HUSTON\"\t]\n",
        "nom_athlete =  [\"\"]\n",
        "text_frame = []\n",
        "result = []\n",
        "time_frame = []\n",
        "text_reader =easyocr.Reader(['en']) # Initialisation de easy ocr\n",
        "\n",
        "for y in np.arange(1,4466):\n",
        "  nom_prenom = []\n",
        "  text = []\n",
        "  image = cv2.imread('/content/drive/MyDrive/Projet Final/image/'+\"frame %d.0 sec.jpg\" % y)\n",
        "  #image = cv2.cvtColor(image, cv2.COLOR_BGR2GRAY) ### Gray\n",
        "  result = text_reader.readtext(image)\n",
        "  # Recuper le text sous une liste \n",
        "  for (bbox, txt, prob) in result:\n",
        "    text.append(txt)\n",
        "  for z in text:\n",
        "      j=z.replace(\" \", \"\").replace(\"0\",\"O\").replace(\"'\",\" \")\n",
        "      text[text.index(z)] = j\n",
        "  if len(text) > 0:\n",
        "    for i in text:\n",
        "       if \" \" in i:\n",
        "         j=i.split()\n",
        "         for v in j:\n",
        "           text.append(v)\n",
        "  if bonne_frame(athlete,athletes_finaliste,text):\n",
        "    nom_prenom = (' '.join(text[0:2]))\n",
        "      # On prends le nom et le prenom seulement, d'apres la sortie de result\n",
        "    text_frame.append(nom_prenom)\n",
        "    if text_frame[-1] in athlete:\n",
        "      nom_athlete.append(nom_prenom)\n",
        "      if nom_athlete[-1] != nom_athlete[-2]:\n",
        "        time_frame.append(y)\n",
        "print(time_frame)\n",
        "print(nom_athlete)"
      ]
    },
    {
      "cell_type": "markdown",
      "metadata": {
        "id": "-9zS2h7G1-68"
      },
      "source": [
        "# Découpage de la vidéo avec le tableau"
      ]
    },
    {
      "cell_type": "code",
      "execution_count": null,
      "metadata": {
        "colab": {
          "base_uri": "https://localhost:8080/"
        },
        "id": "Awz5rkgYTVaA",
        "outputId": "ebf0c061-efc7-474c-a6ae-47ccdd055199"
      },
      "outputs": [
        {
          "name": "stdout",
          "output_type": "stream",
          "text": [
            "Looking in indexes: https://pypi.org/simple, https://us-python.pkg.dev/colab-wheels/public/simple/\n",
            "Collecting imageio_ffmpeg\n",
            "  Downloading imageio_ffmpeg-0.4.8-py3-none-manylinux2010_x86_64.whl (26.9 MB)\n",
            "\u001b[2K     \u001b[90m━━━━━━━━━━━━━━━━━━━━━━━━━━━━━━━━━━━━━━━━\u001b[0m \u001b[32m26.9/26.9 MB\u001b[0m \u001b[31m36.6 MB/s\u001b[0m eta \u001b[36m0:00:00\u001b[0m\n",
            "\u001b[?25hInstalling collected packages: imageio_ffmpeg\n",
            "Successfully installed imageio_ffmpeg-0.4.8\n"
          ]
        }
      ],
      "source": [
        "!pip install imageio_ffmpeg"
      ]
    },
    {
      "cell_type": "code",
      "execution_count": null,
      "metadata": {
        "colab": {
          "base_uri": "https://localhost:8080/"
        },
        "id": "Y3I6D1tB2EpU",
        "outputId": "ce38c706-6d15-4bdb-c8c4-faf3cfdeb2e1"
      },
      "outputs": [
        {
          "name": "stdout",
          "output_type": "stream",
          "text": [
            "[MoviePy] >>>> Building video /content/drive/MyDrive/Projet Final/Vid_coupe/EATON_jagger_SLS2021WORLDCHAMPIONSHIP__Finale_Run.mp4\n",
            "[MoviePy] Writing audio in EATON_jagger_SLS2021WORLDCHAMPIONSHIP__Finale_RunTEMP_MPY_wvf_snd.mp3\n"
          ]
        },
        {
          "name": "stderr",
          "output_type": "stream",
          "text": [
            "100%|██████████| 2735/2735 [00:04<00:00, 558.64it/s]"
          ]
        },
        {
          "name": "stdout",
          "output_type": "stream",
          "text": [
            "[MoviePy] Done.\n",
            "[MoviePy] Writing video /content/drive/MyDrive/Projet Final/Vid_coupe/EATON_jagger_SLS2021WORLDCHAMPIONSHIP__Finale_Run.mp4\n"
          ]
        },
        {
          "name": "stderr",
          "output_type": "stream",
          "text": [
            "\n",
            "100%|██████████| 3717/3717 [06:04<00:00, 10.19it/s]\n"
          ]
        },
        {
          "name": "stdout",
          "output_type": "stream",
          "text": [
            "[MoviePy] Done.\n",
            "[MoviePy] >>>> Video ready: /content/drive/MyDrive/Projet Final/Vid_coupe/EATON_jagger_SLS2021WORLDCHAMPIONSHIP__Finale_Run.mp4 \n",
            "\n",
            "[MoviePy] >>>> Building video /content/drive/MyDrive/Projet Final/Vid_coupe/O'NEILL_shane_SLS2021WORLDCHAMPIONSHIP__Finale_Run.mp4\n",
            "[MoviePy] Writing audio in O'NEILL_shane_SLS2021WORLDCHAMPIONSHIP__Finale_RunTEMP_MPY_wvf_snd.mp3\n"
          ]
        },
        {
          "name": "stderr",
          "output_type": "stream",
          "text": [
            "100%|██████████| 2647/2647 [00:05<00:00, 527.06it/s]"
          ]
        },
        {
          "name": "stdout",
          "output_type": "stream",
          "text": [
            "[MoviePy] Done.\n",
            "[MoviePy] Writing video /content/drive/MyDrive/Projet Final/Vid_coupe/O'NEILL_shane_SLS2021WORLDCHAMPIONSHIP__Finale_Run.mp4\n"
          ]
        },
        {
          "name": "stderr",
          "output_type": "stream",
          "text": [
            "\n",
            "100%|██████████| 3597/3597 [05:37<00:00, 10.65it/s]\n"
          ]
        },
        {
          "name": "stdout",
          "output_type": "stream",
          "text": [
            "[MoviePy] Done.\n",
            "[MoviePy] >>>> Video ready: /content/drive/MyDrive/Projet Final/Vid_coupe/O'NEILL_shane_SLS2021WORLDCHAMPIONSHIP__Finale_Run.mp4 \n",
            "\n"
          ]
        }
      ],
      "source": [
        "from moviepy.video.io.VideoFileClip import VideoFileClip\n",
        "import os\n",
        "\n",
        "# Chemin de la vidéo d'origine\n",
        "video_path = \"/content/drive/MyDrive/Projet Final/2021 SLS Super Crown World Championship  Mens FINAL  Full Broadcast.mp4\"\n",
        "\n",
        "# Dossier de destination pour les séquences de vidéos\n",
        "output_folder = \"/content/drive/MyDrive/Projet Final/Vid_coupe\"\n",
        "\n",
        "#['Prenom','Nom','Time_debut','Time_fin','Prestation','Manche_Competition']\n",
        "\n",
        "# Boucle sur chaque athlète\n",
        "for i in range(0,48):\n",
        "    # Nom de l'athlète\n",
        "    nom = df.Nom[i].upper()\n",
        "    prenom = df.Prenom[i].lower()\n",
        "    # Nom de la prestation\n",
        "    prestation = df.Prestation[i]\n",
        "    # Nom de la manche\n",
        "    manche = df.Manche_Competition[i]\n",
        "    # Temps de début et de fin de la prestation\n",
        "    t_debut = df.Time_debut[i]\n",
        "    t_fin = df.Time_fin[i]\n",
        "    # Extraction de la séquence de vidéo correspondante à la prestation\n",
        "    clip = VideoFileClip(video_path).subclip(t_debut, t_fin)\n",
        "    # Nom du fichier de sortie\n",
        "    filename = f\"{nom}_{prenom}_SLS2021WORLDCHAMPIONSHIP__{manche}_{prestation}.mp4\"\n",
        "    # Chemin du fichier de sortie\n",
        "    filepath = os.path.join(output_folder, filename)\n",
        "    # Sauvegarde de la séquence de vidéo\n",
        "    clip.write_videofile(filepath)"
      ]
    },
    {
      "cell_type": "code",
      "execution_count": null,
      "metadata": {
        "id": "1Jh4lVhRRZYZ"
      },
      "outputs": [],
      "source": [
        "import os\n",
        "import numpy as np\n",
        "\n",
        "\n",
        "img = []\n",
        "height, width, layers = [],[],[]\n",
        "size = ()\n",
        "\n",
        "# Chemin de la vidéo d'origine\n",
        "video_path = \"/content/drive/MyDrive/Projet Final/2021 SLS Super Crown World Championship  Mens FINAL  Full Broadcast.mp4\"\n",
        "\n",
        "# Dossier de destination pour les séquences de vidéos\n",
        "output_folder = \"/content/drive/MyDrive/Projet Final/Vid_coupe\"\n",
        "\n",
        "#['Prenom','Nom','Time_debut','Time_fin','Prestation','Manche_Competition']\n",
        "\n",
        "# Boucle sur chaque athlète\n",
        "for i in range(0,48):\n",
        "    # Nom de l'athlète\n",
        "    nom = df.Nom[i].upper()\n",
        "    prenom = df.Prenom[i].lower()\n",
        "    # Nom de la prestation\n",
        "    prestation = df.Prestation[i]\n",
        "    # Nom de la manche\n",
        "    manche = df.Manche_Competition[i]\n",
        "    # Temps de début et de fin de la prestation\n",
        "    t_debut = df.Time_debut[i]\n",
        "    t_fin = df.Time_fin[i]\n",
        "    # Extraction de la séquence de vidéo correspondante à la prestation\n",
        "    img_array = []\n",
        "    for i in range(t_debut,t_fin):\n",
        "          filename = '/content/drive/MyDrive/Projet Final/image/'+\"frame %d.5 sec.jpg\" % i\n",
        "          img = cv2.imread(filename)\n",
        "          height, width, layers = img.shape\n",
        "          size = (width,height)\n",
        "          img_array.append(img)\n",
        "    # Nom du fichier de sortie\n",
        "    filename = f\"{nom}_{prenom}_SLS2021WORLDCHAMPIONSHIP__{manche}_{prestation}.mp4\"\n",
        "    # Sortie\n",
        "    out = cv2.VideoWriter(filename,cv2.VideoWriter_fourcc(*'MP4V'), 15, size)\n",
        "    for i in range(len(img_array)):\n",
        "      out.write(img_array[i])\n",
        "    out.release()"
      ]
    },
    {
      "cell_type": "code",
      "execution_count": null,
      "metadata": {
        "colab": {
          "base_uri": "https://localhost:8080/"
        },
        "id": "-ka5twxaLARV",
        "outputId": "1bb84b76-fe2f-4f81-982b-4eb99594617b"
      },
      "outputs": [
        {
          "name": "stdout",
          "output_type": "stream",
          "text": [
            "/content/drive/MyDrive/Projet Final/image/frame 3.5 sec.jpg\n"
          ]
        }
      ],
      "source": [
        "filename = '/content/drive/MyDrive/Projet Final/image/'+\"frame %d.5 sec.jpg\" % 3\n",
        "print(filename)"
      ]
    },
    {
      "cell_type": "markdown",
      "metadata": {
        "id": "ptO18jgw8gFU"
      },
      "source": [
        "# test reproductibilité de l’implémentation : vidéo des femmes"
      ]
    },
    {
      "cell_type": "markdown",
      "metadata": {
        "id": "jXnQSBBR_vsA"
      },
      "source": [
        "## Telecharge + frame"
      ]
    },
    {
      "cell_type": "code",
      "execution_count": null,
      "metadata": {
        "colab": {
          "base_uri": "https://localhost:8080/",
          "height": 36
        },
        "id": "qzmEibnx-XX0",
        "outputId": "78000947-a686-434e-9af1-de520ab65950"
      },
      "outputs": [
        {
          "output_type": "execute_result",
          "data": {
            "text/plain": [
              "'/content/drive/MyDrive/Projet Final/2021 SLS Super Crown World Championship  Womens FINAL  Single Trick & Last Trick Section.mp4'"
            ],
            "application/vnd.google.colaboratory.intrinsic+json": {
              "type": "string"
            }
          },
          "metadata": {},
          "execution_count": 32
        }
      ],
      "source": [
        "yt = YouTube(\"https://www.youtube.com/watch?v=swqH86aPikU&t=773s\")\n",
        "mp4_files = yt.streams.filter(file_extension=\"mp4\")\n",
        "mp4_720p_files = mp4_files.get_by_resolution(\"720p\") # la qualité est importante pour bien lire le texte\n",
        "mp4_720p_files.download(\"/content/drive/MyDrive/Projet Final\") # réessayer jusqu'a que ca marche"
      ]
    },
    {
      "cell_type": "code",
      "execution_count": null,
      "metadata": {
        "id": "exutxtmX-cAv"
      },
      "outputs": [],
      "source": [
        "import cv2 \n",
        "vidcap = cv2.VideoCapture(\"/content/drive/MyDrive/Projet Final/2021 SLS Super Crown World Championship  Womens FINAL  Single Trick & Last Trick Section.mp4\") \n",
        "def getFrame(sec): \n",
        "    vidcap.set(cv2.CAP_PROP_POS_MSEC,sec*1000) \n",
        "    hasFrames,image = vidcap.read() \n",
        "    if hasFrames: \n",
        "        cv2.imwrite(\"/content/drive/MyDrive/Projet Final/imageF/\"+\"frame \"+str(sec)+\" sec.jpg\", image)     # save frame as JPG file \n",
        "    return hasFrames \n",
        "sec = 0 \n",
        "frameRate = 0.5 # //it will capture image in each 0.5 second \n",
        "success = getFrame(sec) \n",
        "while success: \n",
        "    sec = sec + frameRate \n",
        "    sec = round(sec, 2) \n",
        "    success = getFrame(sec)"
      ]
    },
    {
      "cell_type": "markdown",
      "metadata": {
        "id": "bVJ6c9sn_zIb"
      },
      "source": [
        "## Test algo automatique"
      ]
    },
    {
      "cell_type": "code",
      "execution_count": null,
      "metadata": {
        "id": "TU1qBDZx_5D-",
        "colab": {
          "base_uri": "https://localhost:8080/"
        },
        "outputId": "b1ccf73d-f0db-4ce3-8616-df3b7618f1fc"
      },
      "outputs": [
        {
          "output_type": "stream",
          "name": "stdout",
          "text": [
            "[300, 356, 409, 461, 481, 540, 598]\n",
            "['', 'SAMARRIA BREVARD', 'SAMARRIA BREVARD', 'SAMARRIA BREVARD', 'SAMARRIA BREVARD', 'SAMARRIA BREVARD', 'SAMARRIA BREVARD', 'SAMARRIA BREVARD', 'SAMARRIA BREVARD', 'SAMARRIA BREVARD', 'SAMARRIA BREVARD', 'SAMARRIA BREVARD', 'SAMARRIA BREVARD', 'SAMARRIA BREVARD', 'SAMARRIA BREVARD', 'SAMARRIA BREVARD', 'SAMARRIA BREVARD', 'SAMARRIA BREVARD', 'SAMARRIA BREVARD', 'SAMARRIA BREVARD', 'SAMARRIA BREVARD', 'SAMARRIA BREVARD', 'SAMARRIA BREVARD', 'SAMARRIA BREVARD', 'SAMARRIA BREVARD', 'SAMARRIA BREVARD', 'SAMARRIA BREVARD', 'SAMARRIA BREVARD', 'SAMARRIA BREVARD', 'SAMARRIA BREVARD', 'SAMARRIA BREVARD', 'SAMARRIA BREVARD', 'CANDY JACOBS', 'CANDY JACOBS', 'CANDY JACOBS', 'CANDY JACOBS', 'CANDY JACOBS', 'CANDY JACOBS', 'CANDY JACOBS', 'CANDY JACOBS', 'CANDY JACOBS', 'CANDY JACOBS', 'CANDY JACOBS', 'CANDY JACOBS', 'CANDY JACOBS', 'CANDY JACOBS', 'CANDY JACOBS', 'CANDY JACOBS', 'CANDY JACOBS', 'CANDY JACOBS', 'CANDY JACOBS', 'CANDY JACOBS', 'CANDY JACOBS', 'CANDY JACOBS', 'CANDY JACOBS', 'CANDY JACOBS', 'CANDY JACOBS', 'CANDY JACOBS', 'CANDY JACOBS', 'CANDY JACOBS', 'CANDY JACOBS', 'CANDY JACOBS', 'CANDY JACOBS', 'CANDY JACOBS', 'CANDY JACOBS', 'CANDY JACOBS', 'CANDY JACOBS', 'CANDY JACOBS', 'CANDY JACOBS', 'CANDY JACOBS', 'CANDY JACOBS', 'FUNA NAKAYAMA', 'FUNA NAKAYAMA', 'FUNA NAKAYAMA', 'FUNA NAKAYAMA', 'FUNA NAKAYAMA', 'FUNA NAKAYAMA', 'FUNA NAKAYAMA', 'FUNA NAKAYAMA', 'FUNA NAKAYAMA', 'FUNA NAKAYAMA', 'FUNA NAKAYAMA', 'FUNA NAKAYAMA', 'FUNA NAKAYAMA', 'FUNA NAKAYAMA', 'FUNA NAKAYAMA', 'FUNA NAKAYAMA', 'FUNA NAKAYAMA', 'FUNA NAKAYAMA', 'FUNA NAKAYAMA', 'FUNA NAKAYAMA', 'FUNA NAKAYAMA', 'FUNA NAKAYAMA', 'FUNA NAKAYAMA', 'KEET OLDENBEUVING', 'KEET OLDENBEUVING', 'KEET OLDENBEUVING', 'KEET OLDENBEUVING', 'KEET OLDENBEUVING', 'KEET OLDENBEUVING', 'KEET OLDENBEUVING', 'KEET OLDENBEUVING', 'KEET OLDENBEUVING', 'KEET OLDENBEUVING', 'KEET OLDENBEUVING', 'RAYSSA LEAL', 'RAYSSA LEAL', 'RAYSSA LEAL', 'RAYSSA LEAL', 'RAYSSA LEAL', 'RAYSSA LEAL', 'RAYSSA LEAL', 'RAYSSA LEAL', 'RAYSSA LEAL', 'RAYSSA LEAL', 'RAYSSA LEAL', 'RAYSSA LEAL', 'RAYSSA LEAL', 'RAYSSA LEAL', 'RAYSSA LEAL', 'RAYSSA LEAL', 'RAYSSA LEAL', 'RAYSSA LEAL', 'RAYSSA LEAL', 'RAYSSA LEAL', 'RAYSSA LEAL', 'RAYSSA LEAL', 'RAYSSA LEAL', 'RAYSSA LEAL', 'RAYSSA LEAL', 'RAYSSA LEAL', 'RAYSSA LEAL', 'RAYSSA LEAL', 'RAYSSA LEAL', 'RAYSSA LEAL', 'RAYSSA LEAL', 'RAYSSA LEAL', 'RAYSSA LEAL', 'RAYSSA LEAL', 'MOMIJI NISHIYA', 'MOMIJI NISHIYA', 'MOMIJI NISHIYA', 'MOMIJI NISHIYA', 'MOMIJI NISHIYA', 'MOMIJI NISHIYA', 'MOMIJI NISHIYA', 'MOMIJI NISHIYA', 'MOMIJI NISHIYA', 'MOMIJI NISHIYA', 'MOMIJI NISHIYA', 'MOMIJI NISHIYA', 'MOMIJI NISHIYA', 'MOMIJI NISHIYA', 'MOMIJI NISHIYA', 'MOMIJI NISHIYA', 'MOMIJI NISHIYA', 'PAMELA ROSA', 'PAMELA ROSA']\n"
          ]
        }
      ],
      "source": [
        "# ALGO SUR L IMAGE TOTAL AVEC EASYOCR + NOM_PRENOM + LES TEMPS DE FIN SONT LES TEMPS DE DEBUT DE LA PROCHAIN PRESTATION\n",
        "\n",
        "import numpy as np\n",
        "athlete = [\"PAMELA ROSA\",\"RAYSSA LEAL\",\n",
        "           \"MOMIJI NISHIYA\",\"SAMARRIA BREVARD\",\n",
        "           \"ROOS ZWETSLOOT\",\"CANDY JACOBS\",\n",
        "           \"FUNA NAKAYAMA\",\"KEET OLDENBEUVING\"]\n",
        "\n",
        "athletes_finaliste = [\"PAMELA ROSA\",\"RAYSSA LEAL\",\"MOMIJI NISHIYA\", \"SAMARRIA BREVARD\"]\n",
        "\n",
        "nom_athlete =  [\"\"]\n",
        "text_frame = []\n",
        "result = []\n",
        "time_frame = []\n",
        "text_reader = easyocr.Reader(['en']) # Initialisation de easy ocr\n",
        "\n",
        "for y in np.arange(300,600):\n",
        "  nom_prenom = []\n",
        "  text = []\n",
        "  image = cv2.imread('/content/drive/MyDrive/Projet Final/imageF/'+\"frame %d.0 sec.jpg\" % y)\n",
        "  #image = cv2.cvtColor(image, cv2.COLOR_BGR2GRAY) ### Gray\n",
        "  result = text_reader.readtext(image)\n",
        "  # Recuper le text sous une liste \n",
        "  for (bbox, txt, prob) in result:\n",
        "    text.append(txt)\n",
        "  for z in text:\n",
        "      j=z.replace(\" \", \"\").replace(\"0\",\"O\").replace(\"'\",\" \")\n",
        "      text[text.index(z)] = j\n",
        "  if len(text) > 0:\n",
        "    for i in text:\n",
        "       if \" \" in i:\n",
        "         j=i.split()\n",
        "         for v in j:\n",
        "           text.append(v)\n",
        "  if bonne_frame(athlete,athletes_finaliste,text):\n",
        "    nom_prenom = (' '.join(text[0:2]))\n",
        "      # On prends le nom et le prenom seulement, d'apres la sortie de result\n",
        "    text_frame.append(nom_prenom)\n",
        "    if text_frame[-1] in athlete:\n",
        "      nom_athlete.append(nom_prenom)\n",
        "      if nom_athlete[-1] != nom_athlete[-2]:\n",
        "        time_frame.append(y)\n",
        "print(time_frame)\n",
        "print(nom_athlete)"
      ]
    },
    {
      "cell_type": "markdown",
      "source": [
        "Test concluant ca marche "
      ],
      "metadata": {
        "id": "r9d_x9eGcec5"
      }
    }
  ],
  "metadata": {
    "accelerator": "GPU",
    "colab": {
      "provenance": []
    },
    "gpuClass": "standard",
    "kernelspec": {
      "display_name": "Python 3",
      "name": "python3"
    },
    "language_info": {
      "name": "python"
    }
  },
  "nbformat": 4,
  "nbformat_minor": 0
}